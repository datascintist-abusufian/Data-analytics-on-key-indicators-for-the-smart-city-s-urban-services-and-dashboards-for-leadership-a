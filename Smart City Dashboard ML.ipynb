{
 "cells": [
  {
   "cell_type": "markdown",
   "metadata": {},
   "source": [
    "# 7. Demonstration: Machine Learning for City Dashboard"
   ]
  },
  {
   "cell_type": "markdown",
   "metadata": {},
   "source": [
    "## 2.\tFeature selection method and Extraction.\n",
    "\n",
    "1. Environment related any attributes :use of Solar Panels made in Edmonton\n",
    "2. Employment :Unemployment rate \n",
    "\n",
    "3. Healthy package:impaired driving incidences\n",
    "\n",
    "4. More advanced in innovation related any attributes:CMA-labor force growth\n",
    "5. Governance related any dominant attributes:Governance\n",
    "  "
   ]
  },
  {
   "cell_type": "markdown",
   "metadata": {},
   "source": [
    "## Importing the packages"
   ]
  },
  {
   "cell_type": "code",
   "execution_count": 102,
   "metadata": {
    "scrolled": true
   },
   "outputs": [],
   "source": [
    "\n",
    "import numpy as np                   # for multi-dimensional containers\n",
    "import pandas as pd                  # for DataFrames\n",
    "#import crayons as cr\n",
    "\n",
    "from tabulate import tabulate\n",
    "\n",
    "import matplotlib.pyplot as plt\n",
    "plt.style.use('classic')\n",
    "%matplotlib inline\n",
    "import seaborn as sns\n",
    "\n",
    "from sklearn import linear_model \n",
    "\n",
    "from sklearn.model_selection import train_test_split\n",
    "from sklearn.preprocessing import StandardScaler \n",
    "from sklearn.neighbors import KNeighborsClassifier\n",
    "from sklearn.metrics import classification_report, confusion_matrix\n",
    "\n",
    "\n",
    "\n",
    "sns.set(style=\"white\", color_codes=True)\n",
    "import warnings # current version of seaborn generates a bunch of warnings that we'll ignore\n",
    "warnings.filterwarnings(\"ignore\")\n",
    "\n"
   ]
  },
  {
   "cell_type": "markdown",
   "metadata": {},
   "source": [
    "## Loading the dataset"
   ]
  },
  {
   "cell_type": "code",
   "execution_count": 103,
   "metadata": {},
   "outputs": [
    {
     "data": {
      "text/html": [
       "<div>\n",
       "<style scoped>\n",
       "    .dataframe tbody tr th:only-of-type {\n",
       "        vertical-align: middle;\n",
       "    }\n",
       "\n",
       "    .dataframe tbody tr th {\n",
       "        vertical-align: top;\n",
       "    }\n",
       "\n",
       "    .dataframe thead th {\n",
       "        text-align: right;\n",
       "    }\n",
       "</style>\n",
       "<table border=\"1\" class=\"dataframe\">\n",
       "  <thead>\n",
       "    <tr style=\"text-align: right;\">\n",
       "      <th></th>\n",
       "      <th>UNEMPLOYMENT_RATE</th>\n",
       "      <th>National_Unemployment_Rate</th>\n",
       "      <th>Impaired Driving Incidents</th>\n",
       "      <th>90_RIGHT_ENERGY</th>\n",
       "      <th>Edmonton CMA - Working Age Population Growth</th>\n",
       "      <th>Edmonton CMA - Labour Force Growth</th>\n",
       "      <th>Edmonton CMA - Employment Growth</th>\n",
       "      <th>governance</th>\n",
       "    </tr>\n",
       "  </thead>\n",
       "  <tbody>\n",
       "    <tr>\n",
       "      <th>0</th>\n",
       "      <td>7.1</td>\n",
       "      <td>8.4</td>\n",
       "      <td>454.0</td>\n",
       "      <td>895.67</td>\n",
       "      <td>1.8</td>\n",
       "      <td>1.3</td>\n",
       "      <td>-1.6</td>\n",
       "      <td>1</td>\n",
       "    </tr>\n",
       "    <tr>\n",
       "      <th>1</th>\n",
       "      <td>7.2</td>\n",
       "      <td>8.4</td>\n",
       "      <td>517.0</td>\n",
       "      <td>875.08</td>\n",
       "      <td>1.7</td>\n",
       "      <td>0.4</td>\n",
       "      <td>-1.9</td>\n",
       "      <td>0</td>\n",
       "    </tr>\n",
       "    <tr>\n",
       "      <th>2</th>\n",
       "      <td>7.5</td>\n",
       "      <td>8.3</td>\n",
       "      <td>468.0</td>\n",
       "      <td>1077.25</td>\n",
       "      <td>1.6</td>\n",
       "      <td>-0.7</td>\n",
       "      <td>-3.1</td>\n",
       "      <td>0</td>\n",
       "    </tr>\n",
       "    <tr>\n",
       "      <th>3</th>\n",
       "      <td>7.7</td>\n",
       "      <td>8.3</td>\n",
       "      <td>632.0</td>\n",
       "      <td>824.25</td>\n",
       "      <td>1.6</td>\n",
       "      <td>-0.4</td>\n",
       "      <td>-2.9</td>\n",
       "      <td>0</td>\n",
       "    </tr>\n",
       "    <tr>\n",
       "      <th>4</th>\n",
       "      <td>7.4</td>\n",
       "      <td>8.2</td>\n",
       "      <td>464.0</td>\n",
       "      <td>1197.25</td>\n",
       "      <td>1.5</td>\n",
       "      <td>-0.2</td>\n",
       "      <td>-0.7</td>\n",
       "      <td>1</td>\n",
       "    </tr>\n",
       "  </tbody>\n",
       "</table>\n",
       "</div>"
      ],
      "text/plain": [
       "   UNEMPLOYMENT_RATE  National_Unemployment_Rate  Impaired Driving Incidents  \\\n",
       "0                7.1                         8.4                       454.0   \n",
       "1                7.2                         8.4                       517.0   \n",
       "2                7.5                         8.3                       468.0   \n",
       "3                7.7                         8.3                       632.0   \n",
       "4                7.4                         8.2                       464.0   \n",
       "\n",
       "   90_RIGHT_ENERGY  Edmonton CMA - Working Age Population Growth  \\\n",
       "0           895.67                                           1.8   \n",
       "1           875.08                                           1.7   \n",
       "2          1077.25                                           1.6   \n",
       "3           824.25                                           1.6   \n",
       "4          1197.25                                           1.5   \n",
       "\n",
       "   Edmonton CMA - Labour Force Growth  Edmonton CMA - Employment Growth  \\\n",
       "0                                 1.3                              -1.6   \n",
       "1                                 0.4                              -1.9   \n",
       "2                                -0.7                              -3.1   \n",
       "3                                -0.4                              -2.9   \n",
       "4                                -0.2                              -0.7   \n",
       "\n",
       "   governance  \n",
       "0           1  \n",
       "1           0  \n",
       "2           0  \n",
       "3           0  \n",
       "4           1  "
      ]
     },
     "execution_count": 103,
     "metadata": {},
     "output_type": "execute_result"
    }
   ],
   "source": [
    "df= pd.read_excel(\"data.xlsx\")\n",
    "df.head()"
   ]
  },
  {
   "cell_type": "code",
   "execution_count": 104,
   "metadata": {},
   "outputs": [
    {
     "data": {
      "text/plain": [
       "Index(['UNEMPLOYMENT_RATE', 'National_Unemployment_Rate',\n",
       "       'Impaired Driving Incidents', '90_RIGHT_ENERGY',\n",
       "       'Edmonton CMA - Working Age Population Growth',\n",
       "       'Edmonton CMA - Labour Force Growth',\n",
       "       'Edmonton CMA - Employment Growth', 'governance'],\n",
       "      dtype='object')"
      ]
     },
     "execution_count": 104,
     "metadata": {},
     "output_type": "execute_result"
    }
   ],
   "source": [
    "df.keys()"
   ]
  },
  {
   "cell_type": "code",
   "execution_count": 105,
   "metadata": {},
   "outputs": [
    {
     "name": "stdout",
     "output_type": "stream",
     "text": [
      "<class 'pandas.core.frame.DataFrame'>\n",
      "RangeIndex: 1158 entries, 0 to 1157\n",
      "Data columns (total 8 columns):\n",
      " #   Column                                        Non-Null Count  Dtype  \n",
      "---  ------                                        --------------  -----  \n",
      " 0   UNEMPLOYMENT_RATE                             153 non-null    float64\n",
      " 1   National_Unemployment_Rate                    153 non-null    float64\n",
      " 2   Impaired Driving Incidents                    43 non-null     float64\n",
      " 3   90_RIGHT_ENERGY                               387 non-null    float64\n",
      " 4   Edmonton CMA - Working Age Population Growth  98 non-null     float64\n",
      " 5   Edmonton CMA - Labour Force Growth            98 non-null     float64\n",
      " 6   Edmonton CMA - Employment Growth              98 non-null     float64\n",
      " 7   governance                                    1158 non-null   int64  \n",
      "dtypes: float64(7), int64(1)\n",
      "memory usage: 72.5 KB\n"
     ]
    }
   ],
   "source": [
    "df.info()"
   ]
  },
  {
   "cell_type": "markdown",
   "metadata": {},
   "source": [
    "## 3.Data visulalization and analysis ( based on dataset types)"
   ]
  },
  {
   "cell_type": "markdown",
   "metadata": {},
   "source": [
    "## Exploratory analysis"
   ]
  },
  {
   "cell_type": "markdown",
   "metadata": {},
   "source": [
    "### Summary statistics"
   ]
  },
  {
   "cell_type": "code",
   "execution_count": 106,
   "metadata": {},
   "outputs": [
    {
     "data": {
      "text/html": [
       "<div>\n",
       "<style scoped>\n",
       "    .dataframe tbody tr th:only-of-type {\n",
       "        vertical-align: middle;\n",
       "    }\n",
       "\n",
       "    .dataframe tbody tr th {\n",
       "        vertical-align: top;\n",
       "    }\n",
       "\n",
       "    .dataframe thead th {\n",
       "        text-align: right;\n",
       "    }\n",
       "</style>\n",
       "<table border=\"1\" class=\"dataframe\">\n",
       "  <thead>\n",
       "    <tr style=\"text-align: right;\">\n",
       "      <th></th>\n",
       "      <th>UNEMPLOYMENT_RATE</th>\n",
       "      <th>National_Unemployment_Rate</th>\n",
       "      <th>Impaired Driving Incidents</th>\n",
       "      <th>90_RIGHT_ENERGY</th>\n",
       "      <th>Edmonton CMA - Working Age Population Growth</th>\n",
       "      <th>Edmonton CMA - Labour Force Growth</th>\n",
       "      <th>Edmonton CMA - Employment Growth</th>\n",
       "      <th>governance</th>\n",
       "    </tr>\n",
       "  </thead>\n",
       "  <tbody>\n",
       "    <tr>\n",
       "      <th>count</th>\n",
       "      <td>153.000000</td>\n",
       "      <td>153.000000</td>\n",
       "      <td>43.000000</td>\n",
       "      <td>387.000000</td>\n",
       "      <td>98.000000</td>\n",
       "      <td>98.000000</td>\n",
       "      <td>98.000000</td>\n",
       "      <td>1158.000000</td>\n",
       "    </tr>\n",
       "    <tr>\n",
       "      <th>mean</th>\n",
       "      <td>6.922222</td>\n",
       "      <td>7.091503</td>\n",
       "      <td>443.139535</td>\n",
       "      <td>841.199612</td>\n",
       "      <td>2.377551</td>\n",
       "      <td>2.385714</td>\n",
       "      <td>2.218367</td>\n",
       "      <td>0.329879</td>\n",
       "    </tr>\n",
       "    <tr>\n",
       "      <th>std</th>\n",
       "      <td>2.150986</td>\n",
       "      <td>1.211184</td>\n",
       "      <td>93.738385</td>\n",
       "      <td>212.881074</td>\n",
       "      <td>0.931193</td>\n",
       "      <td>2.237266</td>\n",
       "      <td>2.629231</td>\n",
       "      <td>0.470372</td>\n",
       "    </tr>\n",
       "    <tr>\n",
       "      <th>min</th>\n",
       "      <td>4.200000</td>\n",
       "      <td>5.000000</td>\n",
       "      <td>283.000000</td>\n",
       "      <td>72.830000</td>\n",
       "      <td>1.400000</td>\n",
       "      <td>-2.400000</td>\n",
       "      <td>-3.600000</td>\n",
       "      <td>0.000000</td>\n",
       "    </tr>\n",
       "    <tr>\n",
       "      <th>25%</th>\n",
       "      <td>5.300000</td>\n",
       "      <td>6.200000</td>\n",
       "      <td>376.500000</td>\n",
       "      <td>764.460000</td>\n",
       "      <td>1.525000</td>\n",
       "      <td>1.100000</td>\n",
       "      <td>1.025000</td>\n",
       "      <td>0.000000</td>\n",
       "    </tr>\n",
       "    <tr>\n",
       "      <th>50%</th>\n",
       "      <td>6.600000</td>\n",
       "      <td>7.100000</td>\n",
       "      <td>447.000000</td>\n",
       "      <td>943.000000</td>\n",
       "      <td>2.050000</td>\n",
       "      <td>2.800000</td>\n",
       "      <td>2.700000</td>\n",
       "      <td>0.000000</td>\n",
       "    </tr>\n",
       "    <tr>\n",
       "      <th>75%</th>\n",
       "      <td>7.700000</td>\n",
       "      <td>7.500000</td>\n",
       "      <td>496.000000</td>\n",
       "      <td>943.000000</td>\n",
       "      <td>3.175000</td>\n",
       "      <td>4.000000</td>\n",
       "      <td>3.875000</td>\n",
       "      <td>1.000000</td>\n",
       "    </tr>\n",
       "    <tr>\n",
       "      <th>max</th>\n",
       "      <td>15.900000</td>\n",
       "      <td>12.900000</td>\n",
       "      <td>670.000000</td>\n",
       "      <td>1399.920000</td>\n",
       "      <td>4.100000</td>\n",
       "      <td>6.200000</td>\n",
       "      <td>7.600000</td>\n",
       "      <td>1.000000</td>\n",
       "    </tr>\n",
       "  </tbody>\n",
       "</table>\n",
       "</div>"
      ],
      "text/plain": [
       "       UNEMPLOYMENT_RATE  National_Unemployment_Rate  \\\n",
       "count         153.000000                  153.000000   \n",
       "mean            6.922222                    7.091503   \n",
       "std             2.150986                    1.211184   \n",
       "min             4.200000                    5.000000   \n",
       "25%             5.300000                    6.200000   \n",
       "50%             6.600000                    7.100000   \n",
       "75%             7.700000                    7.500000   \n",
       "max            15.900000                   12.900000   \n",
       "\n",
       "       Impaired Driving Incidents  90_RIGHT_ENERGY  \\\n",
       "count                   43.000000       387.000000   \n",
       "mean                   443.139535       841.199612   \n",
       "std                     93.738385       212.881074   \n",
       "min                    283.000000        72.830000   \n",
       "25%                    376.500000       764.460000   \n",
       "50%                    447.000000       943.000000   \n",
       "75%                    496.000000       943.000000   \n",
       "max                    670.000000      1399.920000   \n",
       "\n",
       "       Edmonton CMA - Working Age Population Growth  \\\n",
       "count                                     98.000000   \n",
       "mean                                       2.377551   \n",
       "std                                        0.931193   \n",
       "min                                        1.400000   \n",
       "25%                                        1.525000   \n",
       "50%                                        2.050000   \n",
       "75%                                        3.175000   \n",
       "max                                        4.100000   \n",
       "\n",
       "       Edmonton CMA - Labour Force Growth  Edmonton CMA - Employment Growth  \\\n",
       "count                           98.000000                         98.000000   \n",
       "mean                             2.385714                          2.218367   \n",
       "std                              2.237266                          2.629231   \n",
       "min                             -2.400000                         -3.600000   \n",
       "25%                              1.100000                          1.025000   \n",
       "50%                              2.800000                          2.700000   \n",
       "75%                              4.000000                          3.875000   \n",
       "max                              6.200000                          7.600000   \n",
       "\n",
       "        governance  \n",
       "count  1158.000000  \n",
       "mean      0.329879  \n",
       "std       0.470372  \n",
       "min       0.000000  \n",
       "25%       0.000000  \n",
       "50%       0.000000  \n",
       "75%       1.000000  \n",
       "max       1.000000  "
      ]
     },
     "execution_count": 106,
     "metadata": {},
     "output_type": "execute_result"
    }
   ],
   "source": [
    "df.describe()"
   ]
  },
  {
   "cell_type": "markdown",
   "metadata": {},
   "source": [
    "### Popularity of good governace accross the unemployment rate "
   ]
  },
  {
   "cell_type": "code",
   "execution_count": 107,
   "metadata": {},
   "outputs": [
    {
     "data": {
      "text/plain": [
       "<matplotlib.axes._subplots.AxesSubplot at 0x7efe5fb91510>"
      ]
     },
     "execution_count": 107,
     "metadata": {},
     "output_type": "execute_result"
    },
    {
     "data": {
      "image/png": "[encoded data removed]",
      "text/plain": [
       "<Figure size 432x288 with 1 Axes>"
      ]
     },
     "metadata": {},
     "output_type": "display_data"
    }
   ],
   "source": [
    "sns.barplot(data = df\n",
    "            ,x = 'governance'\n",
    "            ,y = 'UNEMPLOYMENT_RATE'\n",
    "             \n",
    "            #,errorbar=None\n",
    "            )"
   ]
  },
  {
   "cell_type": "markdown",
   "metadata": {},
   "source": [
    "Good governance is a key stimulator of  economic growth which is directed infulencing the rate of emplyament, inflation  rate and gdp of a geopolitical region. For Edmonton, the rate of unemplyment is uniform across the population that feels that the governance is not not done correctly and those that feel that it is on the right direction. "
   ]
  },
  {
   "cell_type": "markdown",
   "metadata": {},
   "source": [
    "## Assessing presence of extreme values and equal variance"
   ]
  },
  {
   "cell_type": "code",
   "execution_count": 108,
   "metadata": {},
   "outputs": [
    {
     "data": {
      "text/plain": [
       "<seaborn.axisgrid.FacetGrid at 0x7efe5f91d190>"
      ]
     },
     "execution_count": 108,
     "metadata": {},
     "output_type": "execute_result"
    },
    {
     "data": {
      "image/png": "[encoded data removed]",
      "text/plain": [
       "<Figure size 360x360 with 1 Axes>"
      ]
     },
     "metadata": {},
     "output_type": "display_data"
    }
   ],
   "source": [
    "sns.catplot(data=df, x=\"governance\", y=\"90_RIGHT_ENERGY\", kind=\"violin\").set(title='Use of solar panels  by governance')"
   ]
  },
  {
   "cell_type": "markdown",
   "metadata": {},
   "source": [
    "there is no presence of extreme values across two groups ,that is, those that think the government of Edmonton is in good direction or good governance and those having contrary opinion.\n",
    "Generally, there is no variation in use of solar panels accross the divide. This means that both groups convserve the environment. "
   ]
  },
  {
   "cell_type": "markdown",
   "metadata": {},
   "source": [
    "### Normality using Histogram"
   ]
  },
  {
   "cell_type": "code",
   "execution_count": 109,
   "metadata": {},
   "outputs": [
    {
     "data": {
      "image/png": "[encoded data removed]",
      "text/plain": [
       "<Figure size 1152x1440 with 9 Axes>"
      ]
     },
     "metadata": {},
     "output_type": "display_data"
    }
   ],
   "source": [
    "df_num = df.select_dtypes(include = ['float64', 'int64'])\n",
    "df_num.hist(figsize=(16, 20), bins=50, xlabelsize=8, ylabelsize=8); # ; avoid having the matplotlib verbose informations\n"
   ]
  },
  {
   "cell_type": "markdown",
   "metadata": {},
   "source": [
    "The results shows that the assumption of normality is violated accross all the variables as the shape of the histograms can be estimated to be bell-shaped. "
   ]
  },
  {
   "cell_type": "markdown",
   "metadata": {},
   "source": [
    "## Heatmap"
   ]
  },
  {
   "cell_type": "code",
   "execution_count": 110,
   "metadata": {},
   "outputs": [
    {
     "data": {
      "text/plain": [
       "<matplotlib.axes._subplots.AxesSubplot at 0x7efe604c2510>"
      ]
     },
     "execution_count": 110,
     "metadata": {},
     "output_type": "execute_result"
    },
    {
     "data": {
      "image/png": "[encoded data removed]",
      "text/plain": [
       "<Figure size 432x288 with 2 Axes>"
      ]
     },
     "metadata": {},
     "output_type": "display_data"
    }
   ],
   "source": [
    "# Plot the correlation heatmap\n",
    "sns.heatmap(df_num.corr(), cmap=\"YlGnBu\", annot=True)"
   ]
  },
  {
   "cell_type": "markdown",
   "metadata": {},
   "source": [
    "\n",
    "\n"
   ]
  },
  {
   "cell_type": "markdown",
   "metadata": {},
   "source": [
    "## 4.Data evaluation like cleansing and transforming  "
   ]
  },
  {
   "cell_type": "markdown",
   "metadata": {},
   "source": [
    "## Dealing with missing values"
   ]
  },
  {
   "cell_type": "code",
   "execution_count": 111,
   "metadata": {},
   "outputs": [
    {
     "data": {
      "text/plain": [
       "UNEMPLOYMENT_RATE                               1005\n",
       "National_Unemployment_Rate                      1005\n",
       "Impaired Driving Incidents                      1115\n",
       "90_RIGHT_ENERGY                                  771\n",
       "Edmonton CMA - Working Age Population Growth    1060\n",
       "Edmonton CMA - Labour Force Growth              1060\n",
       "Edmonton CMA - Employment Growth                1060\n",
       "governance                                         0\n",
       "dtype: int64"
      ]
     },
     "execution_count": 111,
     "metadata": {},
     "output_type": "execute_result"
    }
   ],
   "source": [
    "df.isnull().sum()"
   ]
  },
  {
   "cell_type": "code",
   "execution_count": 112,
   "metadata": {},
   "outputs": [],
   "source": [
    "df=df.dropna()"
   ]
  },
  {
   "cell_type": "code",
   "execution_count": 113,
   "metadata": {},
   "outputs": [
    {
     "data": {
      "text/plain": [
       "UNEMPLOYMENT_RATE                               0\n",
       "National_Unemployment_Rate                      0\n",
       "Impaired Driving Incidents                      0\n",
       "90_RIGHT_ENERGY                                 0\n",
       "Edmonton CMA - Working Age Population Growth    0\n",
       "Edmonton CMA - Labour Force Growth              0\n",
       "Edmonton CMA - Employment Growth                0\n",
       "governance                                      0\n",
       "dtype: int64"
      ]
     },
     "execution_count": 113,
     "metadata": {},
     "output_type": "execute_result"
    }
   ],
   "source": [
    "df.isnull().sum()"
   ]
  },
  {
   "cell_type": "markdown",
   "metadata": {},
   "source": [
    "The dataset had several missing values across all the variables. The missing values were dropped as their was no bettter alternative that could be deployed and the sample size was large enough."
   ]
  },
  {
   "cell_type": "markdown",
   "metadata": {},
   "source": [
    "### Split the values into x and y"
   ]
  },
  {
   "cell_type": "code",
   "execution_count": 114,
   "metadata": {},
   "outputs": [],
   "source": [
    "from sklearn import preprocessing\n",
    "from sklearn import utils\n",
    "\n",
    "\n",
    "X = df.iloc[:, :-1].values    #   X -> Feature Variables\n",
    "y = df.iloc[:, -1].values #   y ->  Target\n",
    "\n",
    "\n"
   ]
  },
  {
   "cell_type": "markdown",
   "metadata": {},
   "source": [
    "### Splitting the data into Train and Test"
   ]
  },
  {
   "cell_type": "code",
   "execution_count": 115,
   "metadata": {},
   "outputs": [],
   "source": [
    "\n",
    "X_train, X_test, y_train, y_test = train_test_split(X, y, test_size = 0.3, stratify = y, random_state = 0)"
   ]
  },
  {
   "cell_type": "markdown",
   "metadata": {},
   "source": [
    "### Standardize features by removing mean and scaling to unit variance:"
   ]
  },
  {
   "cell_type": "code",
   "execution_count": 116,
   "metadata": {},
   "outputs": [],
   "source": [
    "scaler = StandardScaler()\n",
    "scaler.fit(X_train)\n",
    "\n",
    "X_train = scaler.transform(X_train)\n",
    "X_test = scaler.transform(X_test) "
   ]
  },
  {
   "cell_type": "markdown",
   "metadata": {},
   "source": [
    "## 5. Type of machine learning algorithms\n",
    "\n",
    "***\n",
    "### Type of Machine learning algorithms\n",
    "\n",
    "Since the target variable governance is binary in nature, the suitable machine leraning algorithm is classification.\n",
    "\n",
    "The act of identifying, comprehending, and organizing concepts and objects into predetermined categories or \"sub-populations\" is the process that is referred to as classification. Machine learning systems utilize a variety of methods to classify future datasets into categories. These algorithms are trained using datasets that have already been categorized.\n",
    "\n",
    "In the field of machine learning, classification algorithms make use of input training data to make predictions about the likelihood that subsequent data will fall into one of the established categories. In this situation, we will evaluate the quality of governance in Edmonton based on a number of additional criteria to determine whether it is good or terrible.\n",
    "\n",
    "The algorithms that will be used include;\n",
    "\n",
    "1. Logistic Regression\n",
    "2. Support Vector Machine's\n",
    "3. Decision Tree\n",
    "4. Naive Bayes\n",
    "\n",
    "### **Evaluation Metrics**\n",
    "\n",
    "We will evaluate the performance of the model using two metrics - Confusion matrix and accuracy.\n",
    "\n",
    "A confusion matrix, also known as an error matrix, is a special table structure that permits visualization of the performance of an algorithm, typically a supervised learning one. It is used in the field of machine learning, and more specifically, the problem of statistical classification (in unsupervised learning it is usually called a matching matrix). While each row of the matrix represents the cases that belong to an actual class, each column of the matrix represents the instances that belong to a predicted class, or vice versa — the literature refers to both of these permutations.  The origin of the name comes from the fact that it is simple to determine whether or not the system is mixing together two different classifications (i.e. commonly mislabeling one as another).\n",
    "It is a specialized form of the contingency table that has two dimensions (called \"actual\" and \"predicted\") with identical sets of \"classes\" in both dimensions (each combination of dimension and class is a variable in the contingency table).\n",
    "\n",
    "Accuracy: \n",
    "The term \"accuracy\" refers to the degree to which a binary classification test correctly detects or eliminates a condition from consideration. Accuracy is measured statistically. In other words, accuracy refers to the proportion of right predictions (including both true positives and true negatives) made out of the total number of cases that were investigated. As such, it evaluates the differences between the pre-test and post-test probabilities. It is frequently referred to as the \"Rand accuracy\" or the \"Rand index\" in order to make the semantics of the context more obvious. It is something that the test uses as a parameter. The following formula can be used to quantify the correctness of binary data:\n",
    "\n",
    "\n",
    "$$Accuracy=\\frac{TP+TN}{TP+TN+FP+FN}$$\n",
    "\n",
    "where TP = True positive; FP = False positive; TN = True negative; FN = False negative\n",
    "\n",
    "Ideally, higher accuracy  values are indicative of a good model.\n"
   ]
  },
  {
   "cell_type": "markdown",
   "metadata": {},
   "source": [
    "## 6. Data Modelling \n",
    "\n",
    "- Step 1 - Loading the required libraries and modules.\n",
    "\n",
    "- Step 2 - Loading the data and performing basic data checks.\n",
    "\n",
    "- Step 3 - Creating arrays for the features and the response variable.\n",
    "\n",
    "- Step 4 - Creating the training and test datasets.\n",
    "\n",
    "- Step 5 - Build, Predict and Evaluate the regression model. We will be repeating Step 5 for the various regression models."
   ]
  },
  {
   "cell_type": "markdown",
   "metadata": {},
   "source": [
    "## 7. Building the models"
   ]
  },
  {
   "cell_type": "markdown",
   "metadata": {},
   "source": [
    "### Logistics Regression"
   ]
  },
  {
   "cell_type": "code",
   "execution_count": 117,
   "metadata": {},
   "outputs": [
    {
     "name": "stdout",
     "output_type": "stream",
     "text": [
      "              precision    recall  f1-score   support\n",
      "\n",
      "           0       0.62      1.00      0.76         8\n",
      "           1       0.00      0.00      0.00         5\n",
      "\n",
      "    accuracy                           0.62        13\n",
      "   macro avg       0.31      0.50      0.38        13\n",
      "weighted avg       0.38      0.62      0.47        13\n",
      "\n",
      "[[8 0]\n",
      " [5 0]]\n",
      "accuracy is 0.6153846153846154\n"
     ]
    }
   ],
   "source": [
    "from sklearn.linear_model import LogisticRegression\n",
    "\n",
    "classifier = LogisticRegression()\n",
    "classifier.fit(X_train, y_train)\n",
    "\n",
    "y_pred = classifier.predict(X_test)\n",
    "\n",
    "# Summary of the predictions made by the classifier\n",
    "print(classification_report(y_test, y_pred))\n",
    "print(confusion_matrix(y_test, y_pred))\n",
    "# Accuracy score\n",
    "from sklearn.metrics import accuracy_score\n",
    "print('accuracy is',accuracy_score(y_pred,y_test))"
   ]
  },
  {
   "cell_type": "markdown",
   "metadata": {},
   "source": [
    "### Support vector Machine's"
   ]
  },
  {
   "cell_type": "code",
   "execution_count": 118,
   "metadata": {},
   "outputs": [
    {
     "name": "stdout",
     "output_type": "stream",
     "text": [
      "              precision    recall  f1-score   support\n",
      "\n",
      "           0       0.62      1.00      0.76         8\n",
      "           1       0.00      0.00      0.00         5\n",
      "\n",
      "    accuracy                           0.62        13\n",
      "   macro avg       0.31      0.50      0.38        13\n",
      "weighted avg       0.38      0.62      0.47        13\n",
      "\n",
      "[[8 0]\n",
      " [5 0]]\n",
      "accuracy is 0.6153846153846154\n"
     ]
    }
   ],
   "source": [
    "from sklearn.svm import SVC\n",
    "\n",
    "classifier = SVC()\n",
    "classifier.fit(X_train, y_train)\n",
    "\n",
    "y_pred = classifier.predict(X_test)\n",
    "\n",
    "# Summary of the predictions made by the classifier\n",
    "print(classification_report(y_test, y_pred))\n",
    "print(confusion_matrix(y_test, y_pred))\n",
    "# Accuracy score\n",
    "from sklearn.metrics import accuracy_score\n",
    "print('accuracy is',accuracy_score(y_pred,y_test))"
   ]
  },
  {
   "cell_type": "markdown",
   "metadata": {},
   "source": [
    "### Decision Tree"
   ]
  },
  {
   "cell_type": "code",
   "execution_count": 119,
   "metadata": {},
   "outputs": [
    {
     "name": "stdout",
     "output_type": "stream",
     "text": [
      "              precision    recall  f1-score   support\n",
      "\n",
      "           0       0.58      0.88      0.70         8\n",
      "           1       0.00      0.00      0.00         5\n",
      "\n",
      "    accuracy                           0.54        13\n",
      "   macro avg       0.29      0.44      0.35        13\n",
      "weighted avg       0.36      0.54      0.43        13\n",
      "\n",
      "[[7 1]\n",
      " [5 0]]\n",
      "accuracy is 0.5384615384615384\n"
     ]
    }
   ],
   "source": [
    "from sklearn.tree import DecisionTreeClassifier\n",
    "\n",
    "classifier = DecisionTreeClassifier()\n",
    "\n",
    "classifier.fit(X_train, y_train)\n",
    "\n",
    "y_pred = classifier.predict(X_test)\n",
    "\n",
    "# Summary of the predictions made by the classifier\n",
    "print(classification_report(y_test, y_pred))\n",
    "print(confusion_matrix(y_test, y_pred))\n",
    "# Accuracy score\n",
    "from sklearn.metrics import accuracy_score\n",
    "print('accuracy is',accuracy_score(y_pred,y_test))"
   ]
  },
  {
   "cell_type": "markdown",
   "metadata": {},
   "source": [
    "### Bernouli Naive Bayes"
   ]
  },
  {
   "cell_type": "code",
   "execution_count": 120,
   "metadata": {},
   "outputs": [
    {
     "name": "stdout",
     "output_type": "stream",
     "text": [
      "              precision    recall  f1-score   support\n",
      "\n",
      "           0       0.64      0.88      0.74         8\n",
      "           1       0.50      0.20      0.29         5\n",
      "\n",
      "    accuracy                           0.62        13\n",
      "   macro avg       0.57      0.54      0.51        13\n",
      "weighted avg       0.58      0.62      0.56        13\n",
      "\n",
      "[[7 1]\n",
      " [4 1]]\n",
      "accuracy is 0.6153846153846154\n"
     ]
    }
   ],
   "source": [
    "from sklearn.naive_bayes import BernoulliNB\n",
    "classifier = BernoulliNB()\n",
    "classifier.fit(X_train, y_train)\n",
    "\n",
    "y_pred = classifier.predict(X_test)\n",
    "\n",
    "# Summary of the predictions made by the classifier\n",
    "print(classification_report(y_test, y_pred))\n",
    "print(confusion_matrix(y_test, y_pred))\n",
    "# Accuracy score\n",
    "from sklearn.metrics import accuracy_score\n",
    "print('accuracy is',accuracy_score(y_pred,y_test))"
   ]
  },
  {
   "cell_type": "markdown",
   "metadata": {},
   "source": [
    "## 8. Analyzing the model built\n",
    "\n",
    "- Logistics Regression has an accuracy of 0.46 which is low and below average hence the performance is considered below average or rather not a good model.\n",
    "- Support Vector machine's (svm) has an accuracy of 70 which is above average and the model performance is considered high or rather a good model.\n",
    "- Decision tree has an accuracy of 53 which is above average and the model performance is considered average or rather a good model.\n",
    "- Lastly, Naive Bayes has an accuracy of  70 which is above average and the model performance is considered high or rather a good model."
   ]
  },
  {
   "cell_type": "markdown",
   "metadata": {},
   "source": [
    "### 9. Model Evaluation"
   ]
  },
  {
   "cell_type": "code",
   "execution_count": 121,
   "metadata": {},
   "outputs": [
    {
     "name": "stdout",
     "output_type": "stream",
     "text": [
      "==============================\n",
      "LogisticRegression\n",
      "****Results****\n",
      "Accuracy: 61.5385%\n",
      "==============================\n",
      "==============================\n",
      "DecisionTreeClassifier\n",
      "****Results****\n",
      "Accuracy: 53.8462%\n",
      "==============================\n",
      "==============================\n",
      "BernoulliNB\n",
      "****Results****\n",
      "Accuracy: 61.5385%\n",
      "==============================\n",
      "==============================\n",
      "SVC\n",
      "****Results****\n",
      "Accuracy: 61.5385%\n",
      "==============================\n"
     ]
    }
   ],
   "source": [
    "from sklearn.metrics import accuracy_score, log_loss   \n",
    "classifiers = [\n",
    "        LogisticRegression(),\n",
    "        DecisionTreeClassifier(),\n",
    "        BernoulliNB(),\n",
    "        SVC(),               \n",
    "                  ]\n",
    " \n",
    "# Logging for Visual Comparison\n",
    "log_cols=[\"Classifier\", \"Accuracy\", \"Log Loss\"]\n",
    "log = pd.DataFrame(columns=log_cols)\n",
    " \n",
    "for clf in classifiers:\n",
    "    clf.fit(X_train, y_train)\n",
    "    name = clf.__class__.__name__\n",
    "    print(\"=\"*30)\n",
    "    print(name)\n",
    "    \n",
    "    print('****Results****')\n",
    "    train_predictions = clf.predict(X_test)\n",
    "    acc = accuracy_score(y_test, train_predictions)\n",
    "    print(\"Accuracy: {:.4%}\".format(acc))\n",
    "    \n",
    "    log_entry = pd.DataFrame([[name, acc*100, 11]], columns=log_cols)\n",
    "    log = log.append(log_entry)\n",
    "    \n",
    "    print(\"=\"*30)"
   ]
  },
  {
   "cell_type": "markdown",
   "metadata": {},
   "source": [
    "### 10.\tAccuracy result comparison"
   ]
  },
  {
   "cell_type": "code",
   "execution_count": 122,
   "metadata": {},
   "outputs": [
    {
     "data": {
      "image/png": "[encoded data removed]",
      "text/plain": [
       "<Figure size 432x288 with 1 Axes>"
      ]
     },
     "metadata": {},
     "output_type": "display_data"
    }
   ],
   "source": [
    "sns.set_color_codes(\"muted\")\n",
    "sns.barplot(x='Accuracy', y='Classifier', data=log, color=\"b\")\n",
    "\n",
    "plt.xlabel('Accuracy %')\n",
    "plt.title('Classifier Accuracy')\n",
    "plt.show()"
   ]
  },
  {
   "cell_type": "markdown",
   "metadata": {},
   "source": [
    "The best models for categorizing governance of Edmonton is using SVC or Bernouli Naive Bayes as they have high performance of an accuracy of 70 % while the rest of the models are average. "
   ]
  },
  {
   "cell_type": "markdown",
   "metadata": {},
   "source": [
    "### 11. ANN classification model"
   ]
  },
  {
   "cell_type": "code",
   "execution_count": 123,
   "metadata": {},
   "outputs": [],
   "source": [
    "import tensorflow as tf\n",
    "from tensorflow import keras"
   ]
  },
  {
   "cell_type": "code",
   "execution_count": 274,
   "metadata": {},
   "outputs": [],
   "source": [
    "model = keras.Sequential([\n",
    "    keras.layers.Dense(units=32, activation=\"relu\", input_shape=(X_train.shape[-1],)),\n",
    "    #keras.layers.Dropout(0.3),\n",
    "    keras.layers.Dense(units=32, activation=\"relu\"),\n",
    "    ##keras.layers.Dropout(0.3),\n",
    "    keras.layers.Dense(units=1, activation=\"sigmoid\")\n",
    "])\n",
    "\n",
    "\n",
    "optimizer = keras.optimizers.Adam(lr=0.001)\n",
    "model.compile(loss=\"binary_crossentropy\", optimizer=optimizer, metrics=[\"accuracy\"])"
   ]
  },
  {
   "cell_type": "code",
   "execution_count": 300,
   "metadata": {},
   "outputs": [
    {
     "name": "stdout",
     "output_type": "stream",
     "text": [
      "Model: \"sequential_28\"\n",
      "_________________________________________________________________\n",
      "Layer (type)                 Output Shape              Param #   \n",
      "=================================================================\n",
      "dense_85 (Dense)             (None, 32)                256       \n",
      "_________________________________________________________________\n",
      "dense_86 (Dense)             (None, 32)                1056      \n",
      "_________________________________________________________________\n",
      "dense_87 (Dense)             (None, 1)                 33        \n",
      "=================================================================\n",
      "Total params: 1,345\n",
      "Trainable params: 1,345\n",
      "Non-trainable params: 0\n",
      "_________________________________________________________________\n"
     ]
    }
   ],
   "source": [
    "model.summary()"
   ]
  },
  {
   "cell_type": "code",
   "execution_count": 301,
   "metadata": {},
   "outputs": [
    {
     "name": "stdout",
     "output_type": "stream",
     "text": [
      "Epoch 1/500\n",
      "1/1 [==============================] - 0s 11ms/step - loss: 0.0118 - accuracy: 1.0000\n",
      "Epoch 2/500\n",
      "1/1 [==============================] - 0s 7ms/step - loss: 0.0117 - accuracy: 1.0000\n",
      "Epoch 3/500\n",
      "1/1 [==============================] - 0s 11ms/step - loss: 0.0116 - accuracy: 1.0000\n",
      "Epoch 4/500\n",
      "1/1 [==============================] - 0s 7ms/step - loss: 0.0116 - accuracy: 1.0000\n",
      "Epoch 5/500\n",
      "1/1 [==============================] - 0s 16ms/step - loss: 0.0115 - accuracy: 1.0000\n",
      "Epoch 6/500\n",
      "1/1 [==============================] - 0s 12ms/step - loss: 0.0115 - accuracy: 1.0000\n",
      "Epoch 7/500\n",
      "1/1 [==============================] - 0s 29ms/step - loss: 0.0114 - accuracy: 1.0000\n",
      "Epoch 8/500\n",
      "1/1 [==============================] - 0s 9ms/step - loss: 0.0114 - accuracy: 1.0000\n",
      "Epoch 9/500\n",
      "1/1 [==============================] - 0s 23ms/step - loss: 0.0113 - accuracy: 1.0000\n",
      "Epoch 10/500\n",
      "1/1 [==============================] - 0s 16ms/step - loss: 0.0112 - accuracy: 1.0000\n",
      "Epoch 11/500\n",
      "1/1 [==============================] - 0s 10ms/step - loss: 0.0112 - accuracy: 1.0000\n",
      "Epoch 12/500\n",
      "1/1 [==============================] - 0s 20ms/step - loss: 0.0111 - accuracy: 1.0000\n",
      "Epoch 13/500\n",
      "1/1 [==============================] - 0s 9ms/step - loss: 0.0111 - accuracy: 1.0000\n",
      "Epoch 14/500\n",
      "1/1 [==============================] - 0s 10ms/step - loss: 0.0110 - accuracy: 1.0000\n",
      "Epoch 15/500\n",
      "1/1 [==============================] - 0s 9ms/step - loss: 0.0110 - accuracy: 1.0000\n",
      "Epoch 16/500\n",
      "1/1 [==============================] - 0s 16ms/step - loss: 0.0109 - accuracy: 1.0000\n",
      "Epoch 17/500\n",
      "1/1 [==============================] - 0s 17ms/step - loss: 0.0109 - accuracy: 1.0000\n",
      "Epoch 18/500\n",
      "1/1 [==============================] - 0s 13ms/step - loss: 0.0108 - accuracy: 1.0000\n",
      "Epoch 19/500\n",
      "1/1 [==============================] - 0s 8ms/step - loss: 0.0108 - accuracy: 1.0000\n",
      "Epoch 20/500\n",
      "1/1 [==============================] - 0s 8ms/step - loss: 0.0107 - accuracy: 1.0000\n",
      "Epoch 21/500\n",
      "1/1 [==============================] - 0s 21ms/step - loss: 0.0107 - accuracy: 1.0000\n",
      "Epoch 22/500\n",
      "1/1 [==============================] - 0s 18ms/step - loss: 0.0106 - accuracy: 1.0000\n",
      "Epoch 23/500\n",
      "1/1 [==============================] - 0s 11ms/step - loss: 0.0106 - accuracy: 1.0000\n",
      "Epoch 24/500\n",
      "1/1 [==============================] - ETA: 0s - loss: 0.0105 - accuracy: 1.00 - 0s 20ms/step - loss: 0.0105 - accuracy: 1.0000\n",
      "Epoch 25/500\n",
      "1/1 [==============================] - 0s 19ms/step - loss: 0.0105 - accuracy: 1.0000\n",
      "Epoch 26/500\n",
      "1/1 [==============================] - 0s 17ms/step - loss: 0.0104 - accuracy: 1.0000\n",
      "Epoch 27/500\n",
      "1/1 [==============================] - 0s 18ms/step - loss: 0.0104 - accuracy: 1.0000\n",
      "Epoch 28/500\n",
      "1/1 [==============================] - 0s 18ms/step - loss: 0.0103 - accuracy: 1.0000\n",
      "Epoch 29/500\n",
      "1/1 [==============================] - 0s 12ms/step - loss: 0.0103 - accuracy: 1.0000\n",
      "Epoch 30/500\n",
      "1/1 [==============================] - 0s 11ms/step - loss: 0.0102 - accuracy: 1.0000\n",
      "Epoch 31/500\n",
      "1/1 [==============================] - 0s 11ms/step - loss: 0.0102 - accuracy: 1.0000\n",
      "Epoch 32/500\n",
      "1/1 [==============================] - 0s 13ms/step - loss: 0.0101 - accuracy: 1.0000\n",
      "Epoch 33/500\n",
      "1/1 [==============================] - 0s 18ms/step - loss: 0.0101 - accuracy: 1.0000\n",
      "Epoch 34/500\n",
      "1/1 [==============================] - 0s 18ms/step - loss: 0.0100 - accuracy: 1.0000\n",
      "Epoch 35/500\n",
      "1/1 [==============================] - 0s 19ms/step - loss: 0.0100 - accuracy: 1.0000\n",
      "Epoch 36/500\n",
      "1/1 [==============================] - 0s 19ms/step - loss: 0.0099 - accuracy: 1.0000\n",
      "Epoch 37/500\n",
      "1/1 [==============================] - 0s 41ms/step - loss: 0.0099 - accuracy: 1.0000\n",
      "Epoch 38/500\n",
      "1/1 [==============================] - 0s 13ms/step - loss: 0.0098 - accuracy: 1.0000\n",
      "Epoch 39/500\n",
      "1/1 [==============================] - 0s 15ms/step - loss: 0.0098 - accuracy: 1.0000\n",
      "Epoch 40/500\n",
      "1/1 [==============================] - 0s 28ms/step - loss: 0.0097 - accuracy: 1.0000\n",
      "Epoch 41/500\n",
      "1/1 [==============================] - 0s 27ms/step - loss: 0.0097 - accuracy: 1.0000\n",
      "Epoch 42/500\n",
      "1/1 [==============================] - 0s 12ms/step - loss: 0.0096 - accuracy: 1.0000\n",
      "Epoch 43/500\n",
      "1/1 [==============================] - 0s 11ms/step - loss: 0.0096 - accuracy: 1.0000\n",
      "Epoch 44/500\n",
      "1/1 [==============================] - 0s 17ms/step - loss: 0.0096 - accuracy: 1.0000\n",
      "Epoch 45/500\n",
      "1/1 [==============================] - 0s 10ms/step - loss: 0.0095 - accuracy: 1.0000\n",
      "Epoch 46/500\n",
      "1/1 [==============================] - 0s 12ms/step - loss: 0.0095 - accuracy: 1.0000\n",
      "Epoch 47/500\n",
      "1/1 [==============================] - 0s 14ms/step - loss: 0.0094 - accuracy: 1.0000\n",
      "Epoch 48/500\n",
      "1/1 [==============================] - 0s 24ms/step - loss: 0.0094 - accuracy: 1.0000\n",
      "Epoch 49/500\n",
      "1/1 [==============================] - 0s 23ms/step - loss: 0.0093 - accuracy: 1.0000\n",
      "Epoch 50/500\n",
      "1/1 [==============================] - 0s 18ms/step - loss: 0.0093 - accuracy: 1.0000\n",
      "Epoch 51/500\n",
      "1/1 [==============================] - 0s 12ms/step - loss: 0.0093 - accuracy: 1.0000\n",
      "Epoch 52/500\n",
      "1/1 [==============================] - ETA: 0s - loss: 0.0092 - accuracy: 1.00 - 0s 11ms/step - loss: 0.0092 - accuracy: 1.0000\n",
      "Epoch 53/500\n",
      "1/1 [==============================] - 0s 12ms/step - loss: 0.0092 - accuracy: 1.0000\n",
      "Epoch 54/500\n",
      "1/1 [==============================] - 0s 18ms/step - loss: 0.0091 - accuracy: 1.0000\n",
      "Epoch 55/500\n",
      "1/1 [==============================] - 0s 18ms/step - loss: 0.0091 - accuracy: 1.0000\n",
      "Epoch 56/500\n",
      "1/1 [==============================] - 0s 9ms/step - loss: 0.0090 - accuracy: 1.0000\n",
      "Epoch 57/500\n",
      "1/1 [==============================] - 0s 11ms/step - loss: 0.0090 - accuracy: 1.0000\n",
      "Epoch 58/500\n",
      "1/1 [==============================] - 0s 12ms/step - loss: 0.0090 - accuracy: 1.0000\n",
      "Epoch 59/500\n",
      "1/1 [==============================] - 0s 14ms/step - loss: 0.0089 - accuracy: 1.0000\n",
      "Epoch 60/500\n",
      "1/1 [==============================] - 0s 25ms/step - loss: 0.0089 - accuracy: 1.0000\n",
      "Epoch 61/500\n",
      "1/1 [==============================] - 0s 8ms/step - loss: 0.0088 - accuracy: 1.0000\n",
      "Epoch 62/500\n",
      "1/1 [==============================] - 0s 20ms/step - loss: 0.0088 - accuracy: 1.0000\n",
      "Epoch 63/500\n",
      "1/1 [==============================] - 0s 12ms/step - loss: 0.0088 - accuracy: 1.0000\n",
      "Epoch 64/500\n",
      "1/1 [==============================] - 0s 24ms/step - loss: 0.0087 - accuracy: 1.0000\n",
      "Epoch 65/500\n",
      "1/1 [==============================] - 0s 19ms/step - loss: 0.0087 - accuracy: 1.0000\n",
      "Epoch 66/500\n",
      "1/1 [==============================] - 0s 13ms/step - loss: 0.0086 - accuracy: 1.0000\n",
      "Epoch 67/500\n",
      "1/1 [==============================] - 0s 19ms/step - loss: 0.0086 - accuracy: 1.0000\n",
      "Epoch 68/500\n",
      "1/1 [==============================] - 0s 13ms/step - loss: 0.0086 - accuracy: 1.0000\n",
      "Epoch 69/500\n",
      "1/1 [==============================] - 0s 8ms/step - loss: 0.0085 - accuracy: 1.0000\n",
      "Epoch 70/500\n",
      "1/1 [==============================] - 0s 11ms/step - loss: 0.0085 - accuracy: 1.0000\n",
      "Epoch 71/500\n",
      "1/1 [==============================] - 0s 11ms/step - loss: 0.0084 - accuracy: 1.0000\n",
      "Epoch 72/500\n",
      "1/1 [==============================] - 0s 9ms/step - loss: 0.0084 - accuracy: 1.0000\n",
      "Epoch 73/500\n",
      "1/1 [==============================] - 0s 17ms/step - loss: 0.0084 - accuracy: 1.0000\n",
      "Epoch 74/500\n",
      "1/1 [==============================] - 0s 18ms/step - loss: 0.0083 - accuracy: 1.0000\n",
      "Epoch 75/500\n",
      "1/1 [==============================] - 0s 39ms/step - loss: 0.0083 - accuracy: 1.0000\n",
      "Epoch 76/500\n",
      "1/1 [==============================] - 0s 19ms/step - loss: 0.0083 - accuracy: 1.0000\n",
      "Epoch 77/500\n",
      "1/1 [==============================] - 0s 26ms/step - loss: 0.0082 - accuracy: 1.0000\n",
      "Epoch 78/500\n",
      "1/1 [==============================] - 0s 15ms/step - loss: 0.0082 - accuracy: 1.0000\n",
      "Epoch 79/500\n",
      "1/1 [==============================] - 0s 10ms/step - loss: 0.0081 - accuracy: 1.0000\n",
      "Epoch 80/500\n",
      "1/1 [==============================] - 0s 11ms/step - loss: 0.0081 - accuracy: 1.0000\n",
      "Epoch 81/500\n",
      "1/1 [==============================] - 0s 26ms/step - loss: 0.0081 - accuracy: 1.0000\n",
      "Epoch 82/500\n",
      "1/1 [==============================] - 0s 10ms/step - loss: 0.0080 - accuracy: 1.0000\n",
      "Epoch 83/500\n"
     ]
    },
    {
     "name": "stdout",
     "output_type": "stream",
     "text": [
      "1/1 [==============================] - 0s 11ms/step - loss: 0.0080 - accuracy: 1.0000\n",
      "Epoch 84/500\n",
      "1/1 [==============================] - 0s 10ms/step - loss: 0.0080 - accuracy: 1.0000\n",
      "Epoch 85/500\n",
      "1/1 [==============================] - 0s 9ms/step - loss: 0.0079 - accuracy: 1.0000\n",
      "Epoch 86/500\n",
      "1/1 [==============================] - 0s 12ms/step - loss: 0.0079 - accuracy: 1.0000\n",
      "Epoch 87/500\n",
      "1/1 [==============================] - 0s 11ms/step - loss: 0.0079 - accuracy: 1.0000\n",
      "Epoch 88/500\n",
      "1/1 [==============================] - 0s 12ms/step - loss: 0.0078 - accuracy: 1.0000\n",
      "Epoch 89/500\n",
      "1/1 [==============================] - 0s 11ms/step - loss: 0.0078 - accuracy: 1.0000\n",
      "Epoch 90/500\n",
      "1/1 [==============================] - ETA: 0s - loss: 0.0078 - accuracy: 1.00 - 0s 15ms/step - loss: 0.0078 - accuracy: 1.0000\n",
      "Epoch 91/500\n",
      "1/1 [==============================] - 0s 23ms/step - loss: 0.0077 - accuracy: 1.0000\n",
      "Epoch 92/500\n",
      "1/1 [==============================] - 0s 18ms/step - loss: 0.0077 - accuracy: 1.0000\n",
      "Epoch 93/500\n",
      "1/1 [==============================] - 0s 9ms/step - loss: 0.0077 - accuracy: 1.0000\n",
      "Epoch 94/500\n",
      "1/1 [==============================] - 0s 20ms/step - loss: 0.0076 - accuracy: 1.0000\n",
      "Epoch 95/500\n",
      "1/1 [==============================] - 0s 14ms/step - loss: 0.0076 - accuracy: 1.0000\n",
      "Epoch 96/500\n",
      "1/1 [==============================] - 0s 24ms/step - loss: 0.0076 - accuracy: 1.0000\n",
      "Epoch 97/500\n",
      "1/1 [==============================] - 0s 10ms/step - loss: 0.0075 - accuracy: 1.0000\n",
      "Epoch 98/500\n",
      "1/1 [==============================] - 0s 13ms/step - loss: 0.0075 - accuracy: 1.0000\n",
      "Epoch 99/500\n",
      "1/1 [==============================] - 0s 17ms/step - loss: 0.0075 - accuracy: 1.0000\n",
      "Epoch 100/500\n",
      "1/1 [==============================] - 0s 7ms/step - loss: 0.0074 - accuracy: 1.0000\n",
      "Epoch 101/500\n",
      "1/1 [==============================] - 0s 22ms/step - loss: 0.0074 - accuracy: 1.0000\n",
      "Epoch 102/500\n",
      "1/1 [==============================] - 0s 9ms/step - loss: 0.0074 - accuracy: 1.0000\n",
      "Epoch 103/500\n",
      "1/1 [==============================] - 0s 20ms/step - loss: 0.0073 - accuracy: 1.0000\n",
      "Epoch 104/500\n",
      "1/1 [==============================] - 0s 12ms/step - loss: 0.0073 - accuracy: 1.0000\n",
      "Epoch 105/500\n",
      "1/1 [==============================] - 0s 11ms/step - loss: 0.0073 - accuracy: 1.0000\n",
      "Epoch 106/500\n",
      "1/1 [==============================] - 0s 13ms/step - loss: 0.0073 - accuracy: 1.0000\n",
      "Epoch 107/500\n",
      "1/1 [==============================] - 0s 10ms/step - loss: 0.0072 - accuracy: 1.0000\n",
      "Epoch 108/500\n",
      "1/1 [==============================] - 0s 10ms/step - loss: 0.0072 - accuracy: 1.0000\n",
      "Epoch 109/500\n",
      "1/1 [==============================] - 0s 8ms/step - loss: 0.0072 - accuracy: 1.0000\n",
      "Epoch 110/500\n",
      "1/1 [==============================] - 0s 11ms/step - loss: 0.0071 - accuracy: 1.0000\n",
      "Epoch 111/500\n",
      "1/1 [==============================] - 0s 16ms/step - loss: 0.0071 - accuracy: 1.0000\n",
      "Epoch 112/500\n",
      "1/1 [==============================] - 0s 17ms/step - loss: 0.0071 - accuracy: 1.0000\n",
      "Epoch 113/500\n",
      "1/1 [==============================] - 0s 22ms/step - loss: 0.0070 - accuracy: 1.0000\n",
      "Epoch 114/500\n",
      "1/1 [==============================] - 0s 15ms/step - loss: 0.0070 - accuracy: 1.0000\n",
      "Epoch 115/500\n",
      "1/1 [==============================] - 0s 13ms/step - loss: 0.0070 - accuracy: 1.0000\n",
      "Epoch 116/500\n",
      "1/1 [==============================] - 0s 23ms/step - loss: 0.0070 - accuracy: 1.0000\n",
      "Epoch 117/500\n",
      "1/1 [==============================] - 0s 16ms/step - loss: 0.0069 - accuracy: 1.0000\n",
      "Epoch 118/500\n",
      "1/1 [==============================] - 0s 18ms/step - loss: 0.0069 - accuracy: 1.0000\n",
      "Epoch 119/500\n",
      "1/1 [==============================] - 0s 21ms/step - loss: 0.0069 - accuracy: 1.0000\n",
      "Epoch 120/500\n",
      "1/1 [==============================] - 0s 23ms/step - loss: 0.0068 - accuracy: 1.0000\n",
      "Epoch 121/500\n",
      "1/1 [==============================] - 0s 12ms/step - loss: 0.0068 - accuracy: 1.0000\n",
      "Epoch 122/500\n",
      "1/1 [==============================] - 0s 10ms/step - loss: 0.0068 - accuracy: 1.0000\n",
      "Epoch 123/500\n",
      "1/1 [==============================] - 0s 14ms/step - loss: 0.0068 - accuracy: 1.0000\n",
      "Epoch 124/500\n",
      "1/1 [==============================] - 0s 13ms/step - loss: 0.0067 - accuracy: 1.0000\n",
      "Epoch 125/500\n",
      "1/1 [==============================] - 0s 14ms/step - loss: 0.0067 - accuracy: 1.0000\n",
      "Epoch 126/500\n",
      "1/1 [==============================] - 0s 12ms/step - loss: 0.0067 - accuracy: 1.0000\n",
      "Epoch 127/500\n",
      "1/1 [==============================] - ETA: 0s - loss: 0.0066 - accuracy: 1.00 - 0s 15ms/step - loss: 0.0066 - accuracy: 1.0000\n",
      "Epoch 128/500\n",
      "1/1 [==============================] - 0s 19ms/step - loss: 0.0066 - accuracy: 1.0000\n",
      "Epoch 129/500\n",
      "1/1 [==============================] - 0s 10ms/step - loss: 0.0066 - accuracy: 1.0000\n",
      "Epoch 130/500\n",
      "1/1 [==============================] - ETA: 0s - loss: 0.0066 - accuracy: 1.00 - 0s 13ms/step - loss: 0.0066 - accuracy: 1.0000\n",
      "Epoch 131/500\n",
      "1/1 [==============================] - 0s 11ms/step - loss: 0.0065 - accuracy: 1.0000\n",
      "Epoch 132/500\n",
      "1/1 [==============================] - 0s 14ms/step - loss: 0.0065 - accuracy: 1.0000\n",
      "Epoch 133/500\n",
      "1/1 [==============================] - 0s 18ms/step - loss: 0.0065 - accuracy: 1.0000\n",
      "Epoch 134/500\n",
      "1/1 [==============================] - 0s 12ms/step - loss: 0.0065 - accuracy: 1.0000\n",
      "Epoch 135/500\n",
      "1/1 [==============================] - 0s 17ms/step - loss: 0.0064 - accuracy: 1.0000\n",
      "Epoch 136/500\n",
      "1/1 [==============================] - 0s 17ms/step - loss: 0.0064 - accuracy: 1.0000\n",
      "Epoch 137/500\n",
      "1/1 [==============================] - 0s 15ms/step - loss: 0.0064 - accuracy: 1.0000\n",
      "Epoch 138/500\n",
      "1/1 [==============================] - 0s 22ms/step - loss: 0.0064 - accuracy: 1.0000\n",
      "Epoch 139/500\n",
      "1/1 [==============================] - 0s 48ms/step - loss: 0.0063 - accuracy: 1.0000\n",
      "Epoch 140/500\n",
      "1/1 [==============================] - 0s 12ms/step - loss: 0.0063 - accuracy: 1.0000\n",
      "Epoch 141/500\n",
      "1/1 [==============================] - 0s 30ms/step - loss: 0.0063 - accuracy: 1.0000\n",
      "Epoch 142/500\n",
      "1/1 [==============================] - 0s 25ms/step - loss: 0.0063 - accuracy: 1.0000\n",
      "Epoch 143/500\n",
      "1/1 [==============================] - 0s 11ms/step - loss: 0.0062 - accuracy: 1.0000\n",
      "Epoch 144/500\n",
      "1/1 [==============================] - 0s 36ms/step - loss: 0.0062 - accuracy: 1.0000\n",
      "Epoch 145/500\n",
      "1/1 [==============================] - 0s 24ms/step - loss: 0.0062 - accuracy: 1.0000\n",
      "Epoch 146/500\n",
      "1/1 [==============================] - 0s 13ms/step - loss: 0.0062 - accuracy: 1.0000\n",
      "Epoch 147/500\n",
      "1/1 [==============================] - 0s 24ms/step - loss: 0.0061 - accuracy: 1.0000\n",
      "Epoch 148/500\n",
      "1/1 [==============================] - 0s 30ms/step - loss: 0.0061 - accuracy: 1.0000\n",
      "Epoch 149/500\n",
      "1/1 [==============================] - 0s 24ms/step - loss: 0.0061 - accuracy: 1.0000\n",
      "Epoch 150/500\n",
      "1/1 [==============================] - 0s 28ms/step - loss: 0.0061 - accuracy: 1.0000\n",
      "Epoch 151/500\n",
      "1/1 [==============================] - 0s 19ms/step - loss: 0.0060 - accuracy: 1.0000\n",
      "Epoch 152/500\n",
      "1/1 [==============================] - 0s 13ms/step - loss: 0.0060 - accuracy: 1.0000\n",
      "Epoch 153/500\n",
      "1/1 [==============================] - 0s 32ms/step - loss: 0.0060 - accuracy: 1.0000\n",
      "Epoch 154/500\n",
      "1/1 [==============================] - 0s 44ms/step - loss: 0.0060 - accuracy: 1.0000\n",
      "Epoch 155/500\n",
      "1/1 [==============================] - 0s 35ms/step - loss: 0.0060 - accuracy: 1.0000\n",
      "Epoch 156/500\n",
      "1/1 [==============================] - 0s 18ms/step - loss: 0.0059 - accuracy: 1.0000\n",
      "Epoch 157/500\n",
      "1/1 [==============================] - 0s 24ms/step - loss: 0.0059 - accuracy: 1.0000\n",
      "Epoch 158/500\n",
      "1/1 [==============================] - 0s 29ms/step - loss: 0.0059 - accuracy: 1.0000\n",
      "Epoch 159/500\n",
      "1/1 [==============================] - 0s 13ms/step - loss: 0.0059 - accuracy: 1.0000\n",
      "Epoch 160/500\n",
      "1/1 [==============================] - 0s 12ms/step - loss: 0.0058 - accuracy: 1.0000\n",
      "Epoch 161/500\n",
      "1/1 [==============================] - 0s 12ms/step - loss: 0.0058 - accuracy: 1.0000\n",
      "Epoch 162/500\n",
      "1/1 [==============================] - 0s 16ms/step - loss: 0.0058 - accuracy: 1.0000\n",
      "Epoch 163/500\n",
      "1/1 [==============================] - 0s 15ms/step - loss: 0.0058 - accuracy: 1.0000\n",
      "Epoch 164/500\n"
     ]
    },
    {
     "name": "stdout",
     "output_type": "stream",
     "text": [
      "1/1 [==============================] - 0s 16ms/step - loss: 0.0057 - accuracy: 1.0000\n",
      "Epoch 165/500\n",
      "1/1 [==============================] - 0s 10ms/step - loss: 0.0057 - accuracy: 1.0000\n",
      "Epoch 166/500\n",
      "1/1 [==============================] - 0s 21ms/step - loss: 0.0057 - accuracy: 1.0000\n",
      "Epoch 167/500\n",
      "1/1 [==============================] - 0s 17ms/step - loss: 0.0057 - accuracy: 1.0000\n",
      "Epoch 168/500\n",
      "1/1 [==============================] - 0s 13ms/step - loss: 0.0057 - accuracy: 1.0000\n",
      "Epoch 169/500\n",
      "1/1 [==============================] - 0s 12ms/step - loss: 0.0056 - accuracy: 1.0000\n",
      "Epoch 170/500\n",
      "1/1 [==============================] - 0s 11ms/step - loss: 0.0056 - accuracy: 1.0000\n",
      "Epoch 171/500\n",
      "1/1 [==============================] - 0s 12ms/step - loss: 0.0056 - accuracy: 1.0000\n",
      "Epoch 172/500\n",
      "1/1 [==============================] - 0s 31ms/step - loss: 0.0056 - accuracy: 1.0000\n",
      "Epoch 173/500\n",
      "1/1 [==============================] - 0s 10ms/step - loss: 0.0056 - accuracy: 1.0000\n",
      "Epoch 174/500\n",
      "1/1 [==============================] - 0s 13ms/step - loss: 0.0055 - accuracy: 1.0000\n",
      "Epoch 175/500\n",
      "1/1 [==============================] - 0s 12ms/step - loss: 0.0055 - accuracy: 1.0000\n",
      "Epoch 176/500\n",
      "1/1 [==============================] - 0s 12ms/step - loss: 0.0055 - accuracy: 1.0000\n",
      "Epoch 177/500\n",
      "1/1 [==============================] - 0s 12ms/step - loss: 0.0055 - accuracy: 1.0000\n",
      "Epoch 178/500\n",
      "1/1 [==============================] - 0s 12ms/step - loss: 0.0055 - accuracy: 1.0000\n",
      "Epoch 179/500\n",
      "1/1 [==============================] - 0s 16ms/step - loss: 0.0054 - accuracy: 1.0000\n",
      "Epoch 180/500\n",
      "1/1 [==============================] - 0s 23ms/step - loss: 0.0054 - accuracy: 1.0000\n",
      "Epoch 181/500\n",
      "1/1 [==============================] - 0s 13ms/step - loss: 0.0054 - accuracy: 1.0000\n",
      "Epoch 182/500\n",
      "1/1 [==============================] - 0s 11ms/step - loss: 0.0054 - accuracy: 1.0000\n",
      "Epoch 183/500\n",
      "1/1 [==============================] - 0s 14ms/step - loss: 0.0054 - accuracy: 1.0000\n",
      "Epoch 184/500\n",
      "1/1 [==============================] - 0s 12ms/step - loss: 0.0053 - accuracy: 1.0000\n",
      "Epoch 185/500\n",
      "1/1 [==============================] - 0s 11ms/step - loss: 0.0053 - accuracy: 1.0000\n",
      "Epoch 186/500\n",
      "1/1 [==============================] - 0s 20ms/step - loss: 0.0053 - accuracy: 1.0000\n",
      "Epoch 187/500\n",
      "1/1 [==============================] - 0s 11ms/step - loss: 0.0053 - accuracy: 1.0000\n",
      "Epoch 188/500\n",
      "1/1 [==============================] - 0s 14ms/step - loss: 0.0053 - accuracy: 1.0000\n",
      "Epoch 189/500\n",
      "1/1 [==============================] - 0s 17ms/step - loss: 0.0052 - accuracy: 1.0000\n",
      "Epoch 190/500\n",
      "1/1 [==============================] - 0s 13ms/step - loss: 0.0052 - accuracy: 1.0000\n",
      "Epoch 191/500\n",
      "1/1 [==============================] - 0s 12ms/step - loss: 0.0052 - accuracy: 1.0000\n",
      "Epoch 192/500\n",
      "1/1 [==============================] - 0s 8ms/step - loss: 0.0052 - accuracy: 1.0000\n",
      "Epoch 193/500\n",
      "1/1 [==============================] - 0s 12ms/step - loss: 0.0052 - accuracy: 1.0000\n",
      "Epoch 194/500\n",
      "1/1 [==============================] - 0s 22ms/step - loss: 0.0051 - accuracy: 1.0000\n",
      "Epoch 195/500\n",
      "1/1 [==============================] - 0s 13ms/step - loss: 0.0051 - accuracy: 1.0000\n",
      "Epoch 196/500\n",
      "1/1 [==============================] - 0s 11ms/step - loss: 0.0051 - accuracy: 1.0000\n",
      "Epoch 197/500\n",
      "1/1 [==============================] - 0s 15ms/step - loss: 0.0051 - accuracy: 1.0000\n",
      "Epoch 198/500\n",
      "1/1 [==============================] - 0s 15ms/step - loss: 0.0051 - accuracy: 1.0000\n",
      "Epoch 199/500\n",
      "1/1 [==============================] - 0s 13ms/step - loss: 0.0050 - accuracy: 1.0000\n",
      "Epoch 200/500\n",
      "1/1 [==============================] - 0s 22ms/step - loss: 0.0050 - accuracy: 1.0000\n",
      "Epoch 201/500\n",
      "1/1 [==============================] - 0s 15ms/step - loss: 0.0050 - accuracy: 1.0000\n",
      "Epoch 202/500\n",
      "1/1 [==============================] - 0s 13ms/step - loss: 0.0050 - accuracy: 1.0000\n",
      "Epoch 203/500\n",
      "1/1 [==============================] - 0s 26ms/step - loss: 0.0050 - accuracy: 1.0000\n",
      "Epoch 204/500\n",
      "1/1 [==============================] - 0s 18ms/step - loss: 0.0050 - accuracy: 1.0000\n",
      "Epoch 205/500\n",
      "1/1 [==============================] - 0s 28ms/step - loss: 0.0049 - accuracy: 1.0000\n",
      "Epoch 206/500\n",
      "1/1 [==============================] - 0s 24ms/step - loss: 0.0049 - accuracy: 1.0000\n",
      "Epoch 207/500\n",
      "1/1 [==============================] - 0s 22ms/step - loss: 0.0049 - accuracy: 1.0000\n",
      "Epoch 208/500\n",
      "1/1 [==============================] - 0s 16ms/step - loss: 0.0049 - accuracy: 1.0000\n",
      "Epoch 209/500\n",
      "1/1 [==============================] - 0s 17ms/step - loss: 0.0049 - accuracy: 1.0000\n",
      "Epoch 210/500\n",
      "1/1 [==============================] - 0s 16ms/step - loss: 0.0049 - accuracy: 1.0000\n",
      "Epoch 211/500\n",
      "1/1 [==============================] - 0s 23ms/step - loss: 0.0048 - accuracy: 1.0000\n",
      "Epoch 212/500\n",
      "1/1 [==============================] - 0s 21ms/step - loss: 0.0048 - accuracy: 1.0000\n",
      "Epoch 213/500\n",
      "1/1 [==============================] - 0s 32ms/step - loss: 0.0048 - accuracy: 1.0000\n",
      "Epoch 214/500\n",
      "1/1 [==============================] - 0s 17ms/step - loss: 0.0048 - accuracy: 1.0000\n",
      "Epoch 215/500\n",
      "1/1 [==============================] - 0s 16ms/step - loss: 0.0048 - accuracy: 1.0000\n",
      "Epoch 216/500\n",
      "1/1 [==============================] - 0s 15ms/step - loss: 0.0048 - accuracy: 1.0000\n",
      "Epoch 217/500\n",
      "1/1 [==============================] - 0s 17ms/step - loss: 0.0047 - accuracy: 1.0000\n",
      "Epoch 218/500\n",
      "1/1 [==============================] - 0s 30ms/step - loss: 0.0047 - accuracy: 1.0000\n",
      "Epoch 219/500\n",
      "1/1 [==============================] - 0s 21ms/step - loss: 0.0047 - accuracy: 1.0000\n",
      "Epoch 220/500\n",
      "1/1 [==============================] - 0s 20ms/step - loss: 0.0047 - accuracy: 1.0000\n",
      "Epoch 221/500\n",
      "1/1 [==============================] - 0s 36ms/step - loss: 0.0047 - accuracy: 1.0000\n",
      "Epoch 222/500\n",
      "1/1 [==============================] - 0s 22ms/step - loss: 0.0047 - accuracy: 1.0000\n",
      "Epoch 223/500\n",
      "1/1 [==============================] - 0s 12ms/step - loss: 0.0046 - accuracy: 1.0000\n",
      "Epoch 224/500\n",
      "1/1 [==============================] - 0s 17ms/step - loss: 0.0046 - accuracy: 1.0000\n",
      "Epoch 225/500\n",
      "1/1 [==============================] - 0s 31ms/step - loss: 0.0046 - accuracy: 1.0000\n",
      "Epoch 226/500\n",
      "1/1 [==============================] - 0s 13ms/step - loss: 0.0046 - accuracy: 1.0000\n",
      "Epoch 227/500\n",
      "1/1 [==============================] - 0s 20ms/step - loss: 0.0046 - accuracy: 1.0000\n",
      "Epoch 228/500\n",
      "1/1 [==============================] - 0s 19ms/step - loss: 0.0046 - accuracy: 1.0000\n",
      "Epoch 229/500\n",
      "1/1 [==============================] - 0s 23ms/step - loss: 0.0045 - accuracy: 1.0000\n",
      "Epoch 230/500\n",
      "1/1 [==============================] - 0s 11ms/step - loss: 0.0045 - accuracy: 1.0000\n",
      "Epoch 231/500\n",
      "1/1 [==============================] - 0s 11ms/step - loss: 0.0045 - accuracy: 1.0000\n",
      "Epoch 232/500\n",
      "1/1 [==============================] - 0s 8ms/step - loss: 0.0045 - accuracy: 1.0000\n",
      "Epoch 233/500\n",
      "1/1 [==============================] - ETA: 0s - loss: 0.0045 - accuracy: 1.00 - 0s 22ms/step - loss: 0.0045 - accuracy: 1.0000\n",
      "Epoch 234/500\n",
      "1/1 [==============================] - 0s 27ms/step - loss: 0.0045 - accuracy: 1.0000\n",
      "Epoch 235/500\n",
      "1/1 [==============================] - 0s 13ms/step - loss: 0.0045 - accuracy: 1.0000\n",
      "Epoch 236/500\n",
      "1/1 [==============================] - 0s 14ms/step - loss: 0.0044 - accuracy: 1.0000\n",
      "Epoch 237/500\n",
      "1/1 [==============================] - 0s 15ms/step - loss: 0.0044 - accuracy: 1.0000\n",
      "Epoch 238/500\n",
      "1/1 [==============================] - 0s 18ms/step - loss: 0.0044 - accuracy: 1.0000\n",
      "Epoch 239/500\n",
      "1/1 [==============================] - 0s 12ms/step - loss: 0.0044 - accuracy: 1.0000\n",
      "Epoch 240/500\n",
      "1/1 [==============================] - 0s 12ms/step - loss: 0.0044 - accuracy: 1.0000\n",
      "Epoch 241/500\n",
      "1/1 [==============================] - 0s 16ms/step - loss: 0.0044 - accuracy: 1.0000\n",
      "Epoch 242/500\n",
      "1/1 [==============================] - 0s 21ms/step - loss: 0.0043 - accuracy: 1.0000\n",
      "Epoch 243/500\n",
      "1/1 [==============================] - 0s 9ms/step - loss: 0.0043 - accuracy: 1.0000\n",
      "Epoch 244/500\n",
      "1/1 [==============================] - 0s 11ms/step - loss: 0.0043 - accuracy: 1.0000\n",
      "Epoch 245/500\n"
     ]
    },
    {
     "name": "stdout",
     "output_type": "stream",
     "text": [
      "1/1 [==============================] - 0s 10ms/step - loss: 0.0043 - accuracy: 1.0000\n",
      "Epoch 246/500\n",
      "1/1 [==============================] - 0s 11ms/step - loss: 0.0043 - accuracy: 1.0000\n",
      "Epoch 247/500\n",
      "1/1 [==============================] - 0s 16ms/step - loss: 0.0043 - accuracy: 1.0000\n",
      "Epoch 248/500\n",
      "1/1 [==============================] - 0s 11ms/step - loss: 0.0043 - accuracy: 1.0000\n",
      "Epoch 249/500\n",
      "1/1 [==============================] - 0s 9ms/step - loss: 0.0042 - accuracy: 1.0000\n",
      "Epoch 250/500\n",
      "1/1 [==============================] - 0s 21ms/step - loss: 0.0042 - accuracy: 1.0000\n",
      "Epoch 251/500\n",
      "1/1 [==============================] - 0s 22ms/step - loss: 0.0042 - accuracy: 1.0000\n",
      "Epoch 252/500\n",
      "1/1 [==============================] - 0s 27ms/step - loss: 0.0042 - accuracy: 1.0000\n",
      "Epoch 253/500\n",
      "1/1 [==============================] - 0s 15ms/step - loss: 0.0042 - accuracy: 1.0000\n",
      "Epoch 254/500\n",
      "1/1 [==============================] - 0s 12ms/step - loss: 0.0042 - accuracy: 1.0000\n",
      "Epoch 255/500\n",
      "1/1 [==============================] - 0s 19ms/step - loss: 0.0042 - accuracy: 1.0000\n",
      "Epoch 256/500\n",
      "1/1 [==============================] - 0s 11ms/step - loss: 0.0042 - accuracy: 1.0000\n",
      "Epoch 257/500\n",
      "1/1 [==============================] - 0s 12ms/step - loss: 0.0041 - accuracy: 1.0000\n",
      "Epoch 258/500\n",
      "1/1 [==============================] - 0s 22ms/step - loss: 0.0041 - accuracy: 1.0000\n",
      "Epoch 259/500\n",
      "1/1 [==============================] - ETA: 0s - loss: 0.0041 - accuracy: 1.00 - 0s 15ms/step - loss: 0.0041 - accuracy: 1.0000\n",
      "Epoch 260/500\n",
      "1/1 [==============================] - 0s 21ms/step - loss: 0.0041 - accuracy: 1.0000\n",
      "Epoch 261/500\n",
      "1/1 [==============================] - 0s 23ms/step - loss: 0.0041 - accuracy: 1.0000\n",
      "Epoch 262/500\n",
      "1/1 [==============================] - 0s 17ms/step - loss: 0.0041 - accuracy: 1.0000\n",
      "Epoch 263/500\n",
      "1/1 [==============================] - 0s 17ms/step - loss: 0.0041 - accuracy: 1.0000\n",
      "Epoch 264/500\n",
      "1/1 [==============================] - 0s 11ms/step - loss: 0.0040 - accuracy: 1.0000\n",
      "Epoch 265/500\n",
      "1/1 [==============================] - 0s 36ms/step - loss: 0.0040 - accuracy: 1.0000\n",
      "Epoch 266/500\n",
      "1/1 [==============================] - 0s 22ms/step - loss: 0.0040 - accuracy: 1.0000\n",
      "Epoch 267/500\n",
      "1/1 [==============================] - 0s 21ms/step - loss: 0.0040 - accuracy: 1.0000\n",
      "Epoch 268/500\n",
      "1/1 [==============================] - 0s 13ms/step - loss: 0.0040 - accuracy: 1.0000\n",
      "Epoch 269/500\n",
      "1/1 [==============================] - 0s 10ms/step - loss: 0.0040 - accuracy: 1.0000\n",
      "Epoch 270/500\n",
      "1/1 [==============================] - 0s 14ms/step - loss: 0.0040 - accuracy: 1.0000\n",
      "Epoch 271/500\n",
      "1/1 [==============================] - 0s 16ms/step - loss: 0.0040 - accuracy: 1.0000\n",
      "Epoch 272/500\n",
      "1/1 [==============================] - 0s 14ms/step - loss: 0.0039 - accuracy: 1.0000\n",
      "Epoch 273/500\n",
      "1/1 [==============================] - 0s 16ms/step - loss: 0.0039 - accuracy: 1.0000\n",
      "Epoch 274/500\n",
      "1/1 [==============================] - 0s 10ms/step - loss: 0.0039 - accuracy: 1.0000\n",
      "Epoch 275/500\n",
      "1/1 [==============================] - 0s 11ms/step - loss: 0.0039 - accuracy: 1.0000\n",
      "Epoch 276/500\n",
      "1/1 [==============================] - 0s 10ms/step - loss: 0.0039 - accuracy: 1.0000\n",
      "Epoch 277/500\n",
      "1/1 [==============================] - 0s 16ms/step - loss: 0.0039 - accuracy: 1.0000\n",
      "Epoch 278/500\n",
      "1/1 [==============================] - 0s 14ms/step - loss: 0.0039 - accuracy: 1.0000\n",
      "Epoch 279/500\n",
      "1/1 [==============================] - 0s 19ms/step - loss: 0.0039 - accuracy: 1.0000\n",
      "Epoch 280/500\n",
      "1/1 [==============================] - 0s 8ms/step - loss: 0.0038 - accuracy: 1.0000\n",
      "Epoch 281/500\n",
      "1/1 [==============================] - 0s 22ms/step - loss: 0.0038 - accuracy: 1.0000\n",
      "Epoch 282/500\n",
      "1/1 [==============================] - 0s 16ms/step - loss: 0.0038 - accuracy: 1.0000\n",
      "Epoch 283/500\n",
      "1/1 [==============================] - 0s 11ms/step - loss: 0.0038 - accuracy: 1.0000\n",
      "Epoch 284/500\n",
      "1/1 [==============================] - 0s 12ms/step - loss: 0.0038 - accuracy: 1.0000\n",
      "Epoch 285/500\n",
      "1/1 [==============================] - 0s 14ms/step - loss: 0.0038 - accuracy: 1.0000\n",
      "Epoch 286/500\n",
      "1/1 [==============================] - 0s 17ms/step - loss: 0.0038 - accuracy: 1.0000\n",
      "Epoch 287/500\n",
      "1/1 [==============================] - 0s 13ms/step - loss: 0.0038 - accuracy: 1.0000\n",
      "Epoch 288/500\n",
      "1/1 [==============================] - 0s 11ms/step - loss: 0.0037 - accuracy: 1.0000\n",
      "Epoch 289/500\n",
      "1/1 [==============================] - 0s 12ms/step - loss: 0.0037 - accuracy: 1.0000\n",
      "Epoch 290/500\n",
      "1/1 [==============================] - 0s 10ms/step - loss: 0.0037 - accuracy: 1.0000\n",
      "Epoch 291/500\n",
      "1/1 [==============================] - 0s 18ms/step - loss: 0.0037 - accuracy: 1.0000\n",
      "Epoch 292/500\n",
      "1/1 [==============================] - 0s 16ms/step - loss: 0.0037 - accuracy: 1.0000\n",
      "Epoch 293/500\n",
      "1/1 [==============================] - 0s 12ms/step - loss: 0.0037 - accuracy: 1.0000\n",
      "Epoch 294/500\n",
      "1/1 [==============================] - 0s 13ms/step - loss: 0.0037 - accuracy: 1.0000\n",
      "Epoch 295/500\n",
      "1/1 [==============================] - 0s 8ms/step - loss: 0.0037 - accuracy: 1.0000\n",
      "Epoch 296/500\n",
      "1/1 [==============================] - 0s 11ms/step - loss: 0.0037 - accuracy: 1.0000\n",
      "Epoch 297/500\n",
      "1/1 [==============================] - 0s 9ms/step - loss: 0.0036 - accuracy: 1.0000\n",
      "Epoch 298/500\n",
      "1/1 [==============================] - 0s 14ms/step - loss: 0.0036 - accuracy: 1.0000\n",
      "Epoch 299/500\n",
      "1/1 [==============================] - 0s 11ms/step - loss: 0.0036 - accuracy: 1.0000\n",
      "Epoch 300/500\n",
      "1/1 [==============================] - 0s 31ms/step - loss: 0.0036 - accuracy: 1.0000\n",
      "Epoch 301/500\n",
      "1/1 [==============================] - 0s 34ms/step - loss: 0.0036 - accuracy: 1.0000\n",
      "Epoch 302/500\n",
      "1/1 [==============================] - 0s 34ms/step - loss: 0.0036 - accuracy: 1.0000\n",
      "Epoch 303/500\n",
      "1/1 [==============================] - 0s 9ms/step - loss: 0.0036 - accuracy: 1.0000\n",
      "Epoch 304/500\n",
      "1/1 [==============================] - 0s 19ms/step - loss: 0.0036 - accuracy: 1.0000\n",
      "Epoch 305/500\n",
      "1/1 [==============================] - 0s 19ms/step - loss: 0.0035 - accuracy: 1.0000\n",
      "Epoch 306/500\n",
      "1/1 [==============================] - 0s 15ms/step - loss: 0.0035 - accuracy: 1.0000\n",
      "Epoch 307/500\n",
      "1/1 [==============================] - 0s 12ms/step - loss: 0.0035 - accuracy: 1.0000\n",
      "Epoch 308/500\n",
      "1/1 [==============================] - 0s 26ms/step - loss: 0.0035 - accuracy: 1.0000\n",
      "Epoch 309/500\n",
      "1/1 [==============================] - 0s 14ms/step - loss: 0.0035 - accuracy: 1.0000\n",
      "Epoch 310/500\n",
      "1/1 [==============================] - 0s 26ms/step - loss: 0.0035 - accuracy: 1.0000\n",
      "Epoch 311/500\n",
      "1/1 [==============================] - 0s 15ms/step - loss: 0.0035 - accuracy: 1.0000\n",
      "Epoch 312/500\n",
      "1/1 [==============================] - 0s 11ms/step - loss: 0.0035 - accuracy: 1.0000\n",
      "Epoch 313/500\n",
      "1/1 [==============================] - 0s 13ms/step - loss: 0.0035 - accuracy: 1.0000\n",
      "Epoch 314/500\n",
      "1/1 [==============================] - 0s 23ms/step - loss: 0.0035 - accuracy: 1.0000\n",
      "Epoch 315/500\n",
      "1/1 [==============================] - 0s 20ms/step - loss: 0.0034 - accuracy: 1.0000\n",
      "Epoch 316/500\n",
      "1/1 [==============================] - 0s 16ms/step - loss: 0.0034 - accuracy: 1.0000\n",
      "Epoch 317/500\n",
      "1/1 [==============================] - 0s 12ms/step - loss: 0.0034 - accuracy: 1.0000\n",
      "Epoch 318/500\n",
      "1/1 [==============================] - 0s 27ms/step - loss: 0.0034 - accuracy: 1.0000\n",
      "Epoch 319/500\n",
      "1/1 [==============================] - 0s 16ms/step - loss: 0.0034 - accuracy: 1.0000\n",
      "Epoch 320/500\n",
      "1/1 [==============================] - 0s 24ms/step - loss: 0.0034 - accuracy: 1.0000\n",
      "Epoch 321/500\n",
      "1/1 [==============================] - 0s 15ms/step - loss: 0.0034 - accuracy: 1.0000\n",
      "Epoch 322/500\n",
      "1/1 [==============================] - 0s 12ms/step - loss: 0.0034 - accuracy: 1.0000\n",
      "Epoch 323/500\n",
      "1/1 [==============================] - 0s 10ms/step - loss: 0.0034 - accuracy: 1.0000\n",
      "Epoch 324/500\n",
      "1/1 [==============================] - 0s 20ms/step - loss: 0.0033 - accuracy: 1.0000\n",
      "Epoch 325/500\n",
      "1/1 [==============================] - 0s 14ms/step - loss: 0.0033 - accuracy: 1.0000\n",
      "Epoch 326/500\n"
     ]
    },
    {
     "name": "stdout",
     "output_type": "stream",
     "text": [
      "1/1 [==============================] - 0s 19ms/step - loss: 0.0033 - accuracy: 1.0000\n",
      "Epoch 327/500\n",
      "1/1 [==============================] - 0s 17ms/step - loss: 0.0033 - accuracy: 1.0000\n",
      "Epoch 328/500\n",
      "1/1 [==============================] - 0s 10ms/step - loss: 0.0033 - accuracy: 1.0000\n",
      "Epoch 329/500\n",
      "1/1 [==============================] - 0s 12ms/step - loss: 0.0033 - accuracy: 1.0000\n",
      "Epoch 330/500\n",
      "1/1 [==============================] - 0s 12ms/step - loss: 0.0033 - accuracy: 1.0000\n",
      "Epoch 331/500\n",
      "1/1 [==============================] - 0s 29ms/step - loss: 0.0033 - accuracy: 1.0000\n",
      "Epoch 332/500\n",
      "1/1 [==============================] - 0s 21ms/step - loss: 0.0033 - accuracy: 1.0000\n",
      "Epoch 333/500\n",
      "1/1 [==============================] - 0s 11ms/step - loss: 0.0033 - accuracy: 1.0000\n",
      "Epoch 334/500\n",
      "1/1 [==============================] - ETA: 0s - loss: 0.0032 - accuracy: 1.00 - 0s 25ms/step - loss: 0.0032 - accuracy: 1.0000\n",
      "Epoch 335/500\n",
      "1/1 [==============================] - 0s 12ms/step - loss: 0.0032 - accuracy: 1.0000\n",
      "Epoch 336/500\n",
      "1/1 [==============================] - 0s 15ms/step - loss: 0.0032 - accuracy: 1.0000\n",
      "Epoch 337/500\n",
      "1/1 [==============================] - 0s 25ms/step - loss: 0.0032 - accuracy: 1.0000\n",
      "Epoch 338/500\n",
      "1/1 [==============================] - 0s 23ms/step - loss: 0.0032 - accuracy: 1.0000\n",
      "Epoch 339/500\n",
      "1/1 [==============================] - 0s 22ms/step - loss: 0.0032 - accuracy: 1.0000\n",
      "Epoch 340/500\n",
      "1/1 [==============================] - 0s 21ms/step - loss: 0.0032 - accuracy: 1.0000\n",
      "Epoch 341/500\n",
      "1/1 [==============================] - 0s 11ms/step - loss: 0.0032 - accuracy: 1.0000\n",
      "Epoch 342/500\n",
      "1/1 [==============================] - 0s 34ms/step - loss: 0.0032 - accuracy: 1.0000\n",
      "Epoch 343/500\n",
      "1/1 [==============================] - 0s 15ms/step - loss: 0.0032 - accuracy: 1.0000\n",
      "Epoch 344/500\n",
      "1/1 [==============================] - 0s 48ms/step - loss: 0.0032 - accuracy: 1.0000\n",
      "Epoch 345/500\n",
      "1/1 [==============================] - 0s 34ms/step - loss: 0.0031 - accuracy: 1.0000\n",
      "Epoch 346/500\n",
      "1/1 [==============================] - 0s 19ms/step - loss: 0.0031 - accuracy: 1.0000\n",
      "Epoch 347/500\n",
      "1/1 [==============================] - 0s 21ms/step - loss: 0.0031 - accuracy: 1.0000\n",
      "Epoch 348/500\n",
      "1/1 [==============================] - 0s 9ms/step - loss: 0.0031 - accuracy: 1.0000\n",
      "Epoch 349/500\n",
      "1/1 [==============================] - 0s 22ms/step - loss: 0.0031 - accuracy: 1.0000\n",
      "Epoch 350/500\n",
      "1/1 [==============================] - 0s 14ms/step - loss: 0.0031 - accuracy: 1.0000\n",
      "Epoch 351/500\n",
      "1/1 [==============================] - 0s 9ms/step - loss: 0.0031 - accuracy: 1.0000\n",
      "Epoch 352/500\n",
      "1/1 [==============================] - 0s 11ms/step - loss: 0.0031 - accuracy: 1.0000\n",
      "Epoch 353/500\n",
      "1/1 [==============================] - 0s 32ms/step - loss: 0.0031 - accuracy: 1.0000\n",
      "Epoch 354/500\n",
      "1/1 [==============================] - 0s 21ms/step - loss: 0.0031 - accuracy: 1.0000\n",
      "Epoch 355/500\n",
      "1/1 [==============================] - 0s 13ms/step - loss: 0.0031 - accuracy: 1.0000\n",
      "Epoch 356/500\n",
      "1/1 [==============================] - 0s 14ms/step - loss: 0.0030 - accuracy: 1.0000\n",
      "Epoch 357/500\n",
      "1/1 [==============================] - 0s 11ms/step - loss: 0.0030 - accuracy: 1.0000\n",
      "Epoch 358/500\n",
      "1/1 [==============================] - 0s 10ms/step - loss: 0.0030 - accuracy: 1.0000\n",
      "Epoch 359/500\n",
      "1/1 [==============================] - 0s 9ms/step - loss: 0.0030 - accuracy: 1.0000\n",
      "Epoch 360/500\n",
      "1/1 [==============================] - 0s 11ms/step - loss: 0.0030 - accuracy: 1.0000\n",
      "Epoch 361/500\n",
      "1/1 [==============================] - 0s 17ms/step - loss: 0.0030 - accuracy: 1.0000\n",
      "Epoch 362/500\n",
      "1/1 [==============================] - 0s 10ms/step - loss: 0.0030 - accuracy: 1.0000\n",
      "Epoch 363/500\n",
      "1/1 [==============================] - 0s 13ms/step - loss: 0.0030 - accuracy: 1.0000\n",
      "Epoch 364/500\n",
      "1/1 [==============================] - 0s 13ms/step - loss: 0.0030 - accuracy: 1.0000\n",
      "Epoch 365/500\n",
      "1/1 [==============================] - 0s 10ms/step - loss: 0.0030 - accuracy: 1.0000\n",
      "Epoch 366/500\n",
      "1/1 [==============================] - 0s 9ms/step - loss: 0.0030 - accuracy: 1.0000\n",
      "Epoch 367/500\n",
      "1/1 [==============================] - 0s 17ms/step - loss: 0.0029 - accuracy: 1.0000\n",
      "Epoch 368/500\n",
      "1/1 [==============================] - 0s 15ms/step - loss: 0.0029 - accuracy: 1.0000\n",
      "Epoch 369/500\n",
      "1/1 [==============================] - 0s 9ms/step - loss: 0.0029 - accuracy: 1.0000\n",
      "Epoch 370/500\n",
      "1/1 [==============================] - 0s 13ms/step - loss: 0.0029 - accuracy: 1.0000\n",
      "Epoch 371/500\n",
      "1/1 [==============================] - 0s 10ms/step - loss: 0.0029 - accuracy: 1.0000\n",
      "Epoch 372/500\n",
      "1/1 [==============================] - 0s 16ms/step - loss: 0.0029 - accuracy: 1.0000\n",
      "Epoch 373/500\n",
      "1/1 [==============================] - 0s 14ms/step - loss: 0.0029 - accuracy: 1.0000\n",
      "Epoch 374/500\n",
      "1/1 [==============================] - 0s 22ms/step - loss: 0.0029 - accuracy: 1.0000\n",
      "Epoch 375/500\n",
      "1/1 [==============================] - 0s 15ms/step - loss: 0.0029 - accuracy: 1.0000\n",
      "Epoch 376/500\n",
      "1/1 [==============================] - 0s 15ms/step - loss: 0.0029 - accuracy: 1.0000\n",
      "Epoch 377/500\n",
      "1/1 [==============================] - 0s 13ms/step - loss: 0.0029 - accuracy: 1.0000\n",
      "Epoch 378/500\n",
      "1/1 [==============================] - 0s 15ms/step - loss: 0.0029 - accuracy: 1.0000\n",
      "Epoch 379/500\n",
      "1/1 [==============================] - 0s 19ms/step - loss: 0.0028 - accuracy: 1.0000\n",
      "Epoch 380/500\n",
      "1/1 [==============================] - 0s 15ms/step - loss: 0.0028 - accuracy: 1.0000\n",
      "Epoch 381/500\n",
      "1/1 [==============================] - 0s 15ms/step - loss: 0.0028 - accuracy: 1.0000\n",
      "Epoch 382/500\n",
      "1/1 [==============================] - 0s 18ms/step - loss: 0.0028 - accuracy: 1.0000\n",
      "Epoch 383/500\n",
      "1/1 [==============================] - 0s 15ms/step - loss: 0.0028 - accuracy: 1.0000\n",
      "Epoch 384/500\n",
      "1/1 [==============================] - 0s 26ms/step - loss: 0.0028 - accuracy: 1.0000\n",
      "Epoch 385/500\n",
      "1/1 [==============================] - 0s 13ms/step - loss: 0.0028 - accuracy: 1.0000\n",
      "Epoch 386/500\n",
      "1/1 [==============================] - 0s 36ms/step - loss: 0.0028 - accuracy: 1.0000\n",
      "Epoch 387/500\n",
      "1/1 [==============================] - 0s 13ms/step - loss: 0.0028 - accuracy: 1.0000\n",
      "Epoch 388/500\n",
      "1/1 [==============================] - 0s 30ms/step - loss: 0.0028 - accuracy: 1.0000\n",
      "Epoch 389/500\n",
      "1/1 [==============================] - 0s 11ms/step - loss: 0.0028 - accuracy: 1.0000\n",
      "Epoch 390/500\n",
      "1/1 [==============================] - 0s 10ms/step - loss: 0.0028 - accuracy: 1.0000\n",
      "Epoch 391/500\n",
      "1/1 [==============================] - 0s 48ms/step - loss: 0.0028 - accuracy: 1.0000\n",
      "Epoch 392/500\n",
      "1/1 [==============================] - 0s 17ms/step - loss: 0.0027 - accuracy: 1.0000\n",
      "Epoch 393/500\n",
      "1/1 [==============================] - 0s 10ms/step - loss: 0.0027 - accuracy: 1.0000\n",
      "Epoch 394/500\n",
      "1/1 [==============================] - 0s 16ms/step - loss: 0.0027 - accuracy: 1.0000\n",
      "Epoch 395/500\n",
      "1/1 [==============================] - 0s 18ms/step - loss: 0.0027 - accuracy: 1.0000\n",
      "Epoch 396/500\n",
      "1/1 [==============================] - 0s 18ms/step - loss: 0.0027 - accuracy: 1.0000\n",
      "Epoch 397/500\n",
      "1/1 [==============================] - 0s 11ms/step - loss: 0.0027 - accuracy: 1.0000\n",
      "Epoch 398/500\n",
      "1/1 [==============================] - 0s 14ms/step - loss: 0.0027 - accuracy: 1.0000\n",
      "Epoch 399/500\n",
      "1/1 [==============================] - 0s 9ms/step - loss: 0.0027 - accuracy: 1.0000\n",
      "Epoch 400/500\n",
      "1/1 [==============================] - 0s 24ms/step - loss: 0.0027 - accuracy: 1.0000\n",
      "Epoch 401/500\n",
      "1/1 [==============================] - 0s 28ms/step - loss: 0.0027 - accuracy: 1.0000\n",
      "Epoch 402/500\n",
      "1/1 [==============================] - 0s 12ms/step - loss: 0.0027 - accuracy: 1.0000\n",
      "Epoch 403/500\n",
      "1/1 [==============================] - 0s 27ms/step - loss: 0.0027 - accuracy: 1.0000\n",
      "Epoch 404/500\n",
      "1/1 [==============================] - 0s 19ms/step - loss: 0.0027 - accuracy: 1.0000\n",
      "Epoch 405/500\n",
      "1/1 [==============================] - 0s 12ms/step - loss: 0.0026 - accuracy: 1.0000\n",
      "Epoch 406/500\n",
      "1/1 [==============================] - 0s 14ms/step - loss: 0.0026 - accuracy: 1.0000\n",
      "Epoch 407/500\n"
     ]
    },
    {
     "name": "stdout",
     "output_type": "stream",
     "text": [
      "1/1 [==============================] - 0s 12ms/step - loss: 0.0026 - accuracy: 1.0000\n",
      "Epoch 408/500\n",
      "1/1 [==============================] - 0s 12ms/step - loss: 0.0026 - accuracy: 1.0000\n",
      "Epoch 409/500\n",
      "1/1 [==============================] - 0s 10ms/step - loss: 0.0026 - accuracy: 1.0000\n",
      "Epoch 410/500\n",
      "1/1 [==============================] - 0s 27ms/step - loss: 0.0026 - accuracy: 1.0000\n",
      "Epoch 411/500\n",
      "1/1 [==============================] - 0s 20ms/step - loss: 0.0026 - accuracy: 1.0000\n",
      "Epoch 412/500\n",
      "1/1 [==============================] - 0s 14ms/step - loss: 0.0026 - accuracy: 1.0000\n",
      "Epoch 413/500\n",
      "1/1 [==============================] - 0s 17ms/step - loss: 0.0026 - accuracy: 1.0000\n",
      "Epoch 414/500\n",
      "1/1 [==============================] - 0s 16ms/step - loss: 0.0026 - accuracy: 1.0000\n",
      "Epoch 415/500\n",
      "1/1 [==============================] - ETA: 0s - loss: 0.0026 - accuracy: 1.00 - 0s 10ms/step - loss: 0.0026 - accuracy: 1.0000\n",
      "Epoch 416/500\n",
      "1/1 [==============================] - 0s 13ms/step - loss: 0.0026 - accuracy: 1.0000\n",
      "Epoch 417/500\n",
      "1/1 [==============================] - 0s 9ms/step - loss: 0.0026 - accuracy: 1.0000\n",
      "Epoch 418/500\n",
      "1/1 [==============================] - 0s 10ms/step - loss: 0.0026 - accuracy: 1.0000\n",
      "Epoch 419/500\n",
      "1/1 [==============================] - 0s 15ms/step - loss: 0.0025 - accuracy: 1.0000\n",
      "Epoch 420/500\n",
      "1/1 [==============================] - 0s 29ms/step - loss: 0.0025 - accuracy: 1.0000\n",
      "Epoch 421/500\n",
      "1/1 [==============================] - 0s 13ms/step - loss: 0.0025 - accuracy: 1.0000\n",
      "Epoch 422/500\n",
      "1/1 [==============================] - 0s 13ms/step - loss: 0.0025 - accuracy: 1.0000\n",
      "Epoch 423/500\n",
      "1/1 [==============================] - 0s 13ms/step - loss: 0.0025 - accuracy: 1.0000\n",
      "Epoch 424/500\n",
      "1/1 [==============================] - 0s 21ms/step - loss: 0.0025 - accuracy: 1.0000\n",
      "Epoch 425/500\n",
      "1/1 [==============================] - 0s 13ms/step - loss: 0.0025 - accuracy: 1.0000\n",
      "Epoch 426/500\n",
      "1/1 [==============================] - 0s 13ms/step - loss: 0.0025 - accuracy: 1.0000\n",
      "Epoch 427/500\n",
      "1/1 [==============================] - 0s 15ms/step - loss: 0.0025 - accuracy: 1.0000\n",
      "Epoch 428/500\n",
      "1/1 [==============================] - 0s 12ms/step - loss: 0.0025 - accuracy: 1.0000\n",
      "Epoch 429/500\n",
      "1/1 [==============================] - 0s 14ms/step - loss: 0.0025 - accuracy: 1.0000\n",
      "Epoch 430/500\n",
      "1/1 [==============================] - 0s 28ms/step - loss: 0.0025 - accuracy: 1.0000\n",
      "Epoch 431/500\n",
      "1/1 [==============================] - 0s 16ms/step - loss: 0.0025 - accuracy: 1.0000\n",
      "Epoch 432/500\n",
      "1/1 [==============================] - 0s 12ms/step - loss: 0.0025 - accuracy: 1.0000\n",
      "Epoch 433/500\n",
      "1/1 [==============================] - 0s 15ms/step - loss: 0.0025 - accuracy: 1.0000\n",
      "Epoch 434/500\n",
      "1/1 [==============================] - 0s 10ms/step - loss: 0.0024 - accuracy: 1.0000\n",
      "Epoch 435/500\n",
      "1/1 [==============================] - 0s 13ms/step - loss: 0.0024 - accuracy: 1.0000\n",
      "Epoch 436/500\n",
      "1/1 [==============================] - 0s 12ms/step - loss: 0.0024 - accuracy: 1.0000\n",
      "Epoch 437/500\n",
      "1/1 [==============================] - 0s 16ms/step - loss: 0.0024 - accuracy: 1.0000\n",
      "Epoch 438/500\n",
      "1/1 [==============================] - 0s 11ms/step - loss: 0.0024 - accuracy: 1.0000\n",
      "Epoch 439/500\n",
      "1/1 [==============================] - 0s 19ms/step - loss: 0.0024 - accuracy: 1.0000\n",
      "Epoch 440/500\n",
      "1/1 [==============================] - 0s 21ms/step - loss: 0.0024 - accuracy: 1.0000\n",
      "Epoch 441/500\n",
      "1/1 [==============================] - 0s 22ms/step - loss: 0.0024 - accuracy: 1.0000\n",
      "Epoch 442/500\n",
      "1/1 [==============================] - 0s 21ms/step - loss: 0.0024 - accuracy: 1.0000\n",
      "Epoch 443/500\n",
      "1/1 [==============================] - 0s 11ms/step - loss: 0.0024 - accuracy: 1.0000\n",
      "Epoch 444/500\n",
      "1/1 [==============================] - 0s 16ms/step - loss: 0.0024 - accuracy: 1.0000\n",
      "Epoch 445/500\n",
      "1/1 [==============================] - 0s 14ms/step - loss: 0.0024 - accuracy: 1.0000\n",
      "Epoch 446/500\n",
      "1/1 [==============================] - 0s 18ms/step - loss: 0.0024 - accuracy: 1.0000\n",
      "Epoch 447/500\n",
      "1/1 [==============================] - 0s 11ms/step - loss: 0.0024 - accuracy: 1.0000\n",
      "Epoch 448/500\n",
      "1/1 [==============================] - 0s 14ms/step - loss: 0.0024 - accuracy: 1.0000\n",
      "Epoch 449/500\n",
      "1/1 [==============================] - 0s 13ms/step - loss: 0.0023 - accuracy: 1.0000\n",
      "Epoch 450/500\n",
      "1/1 [==============================] - 0s 19ms/step - loss: 0.0023 - accuracy: 1.0000\n",
      "Epoch 451/500\n",
      "1/1 [==============================] - ETA: 0s - loss: 0.0023 - accuracy: 1.00 - 0s 19ms/step - loss: 0.0023 - accuracy: 1.0000\n",
      "Epoch 452/500\n",
      "1/1 [==============================] - 0s 14ms/step - loss: 0.0023 - accuracy: 1.0000\n",
      "Epoch 453/500\n",
      "1/1 [==============================] - 0s 10ms/step - loss: 0.0023 - accuracy: 1.0000\n",
      "Epoch 454/500\n",
      "1/1 [==============================] - ETA: 0s - loss: 0.0023 - accuracy: 1.00 - 0s 20ms/step - loss: 0.0023 - accuracy: 1.0000\n",
      "Epoch 455/500\n",
      "1/1 [==============================] - 0s 15ms/step - loss: 0.0023 - accuracy: 1.0000\n",
      "Epoch 456/500\n",
      "1/1 [==============================] - 0s 12ms/step - loss: 0.0023 - accuracy: 1.0000\n",
      "Epoch 457/500\n",
      "1/1 [==============================] - 0s 18ms/step - loss: 0.0023 - accuracy: 1.0000\n",
      "Epoch 458/500\n",
      "1/1 [==============================] - 0s 12ms/step - loss: 0.0023 - accuracy: 1.0000\n",
      "Epoch 459/500\n",
      "1/1 [==============================] - 0s 7ms/step - loss: 0.0023 - accuracy: 1.0000\n",
      "Epoch 460/500\n",
      "1/1 [==============================] - 0s 11ms/step - loss: 0.0023 - accuracy: 1.0000\n",
      "Epoch 461/500\n",
      "1/1 [==============================] - 0s 26ms/step - loss: 0.0023 - accuracy: 1.0000\n",
      "Epoch 462/500\n",
      "1/1 [==============================] - 0s 16ms/step - loss: 0.0023 - accuracy: 1.0000\n",
      "Epoch 463/500\n",
      "1/1 [==============================] - 0s 19ms/step - loss: 0.0023 - accuracy: 1.0000\n",
      "Epoch 464/500\n",
      "1/1 [==============================] - ETA: 0s - loss: 0.0023 - accuracy: 1.00 - 0s 12ms/step - loss: 0.0023 - accuracy: 1.0000\n",
      "Epoch 465/500\n",
      "1/1 [==============================] - 0s 15ms/step - loss: 0.0023 - accuracy: 1.0000\n",
      "Epoch 466/500\n",
      "1/1 [==============================] - 0s 23ms/step - loss: 0.0023 - accuracy: 1.0000\n",
      "Epoch 467/500\n",
      "1/1 [==============================] - 0s 31ms/step - loss: 0.0022 - accuracy: 1.0000\n",
      "Epoch 468/500\n",
      "1/1 [==============================] - 0s 27ms/step - loss: 0.0022 - accuracy: 1.0000\n",
      "Epoch 469/500\n",
      "1/1 [==============================] - 0s 14ms/step - loss: 0.0022 - accuracy: 1.0000\n",
      "Epoch 470/500\n",
      "1/1 [==============================] - 0s 10ms/step - loss: 0.0022 - accuracy: 1.0000\n",
      "Epoch 471/500\n",
      "1/1 [==============================] - 0s 9ms/step - loss: 0.0022 - accuracy: 1.0000\n",
      "Epoch 472/500\n",
      "1/1 [==============================] - 0s 19ms/step - loss: 0.0022 - accuracy: 1.0000\n",
      "Epoch 473/500\n",
      "1/1 [==============================] - 0s 8ms/step - loss: 0.0022 - accuracy: 1.0000\n",
      "Epoch 474/500\n",
      "1/1 [==============================] - 0s 22ms/step - loss: 0.0022 - accuracy: 1.0000\n",
      "Epoch 475/500\n",
      "1/1 [==============================] - 0s 17ms/step - loss: 0.0022 - accuracy: 1.0000\n",
      "Epoch 476/500\n",
      "1/1 [==============================] - 0s 12ms/step - loss: 0.0022 - accuracy: 1.0000\n",
      "Epoch 477/500\n",
      "1/1 [==============================] - 0s 14ms/step - loss: 0.0022 - accuracy: 1.0000\n",
      "Epoch 478/500\n",
      "1/1 [==============================] - 0s 12ms/step - loss: 0.0022 - accuracy: 1.0000\n",
      "Epoch 479/500\n",
      "1/1 [==============================] - 0s 12ms/step - loss: 0.0022 - accuracy: 1.0000\n",
      "Epoch 480/500\n",
      "1/1 [==============================] - 0s 17ms/step - loss: 0.0022 - accuracy: 1.0000\n",
      "Epoch 481/500\n",
      "1/1 [==============================] - 0s 18ms/step - loss: 0.0022 - accuracy: 1.0000\n",
      "Epoch 482/500\n",
      "1/1 [==============================] - 0s 17ms/step - loss: 0.0022 - accuracy: 1.0000\n",
      "Epoch 483/500\n",
      "1/1 [==============================] - 0s 13ms/step - loss: 0.0022 - accuracy: 1.0000\n",
      "Epoch 484/500\n",
      "1/1 [==============================] - 0s 13ms/step - loss: 0.0022 - accuracy: 1.0000\n",
      "Epoch 485/500\n",
      "1/1 [==============================] - 0s 12ms/step - loss: 0.0021 - accuracy: 1.0000\n",
      "Epoch 486/500\n",
      "1/1 [==============================] - 0s 8ms/step - loss: 0.0021 - accuracy: 1.0000\n",
      "Epoch 487/500\n"
     ]
    },
    {
     "name": "stdout",
     "output_type": "stream",
     "text": [
      "1/1 [==============================] - 0s 14ms/step - loss: 0.0021 - accuracy: 1.0000\n",
      "Epoch 488/500\n",
      "1/1 [==============================] - 0s 12ms/step - loss: 0.0021 - accuracy: 1.0000\n",
      "Epoch 489/500\n",
      "1/1 [==============================] - 0s 12ms/step - loss: 0.0021 - accuracy: 1.0000\n",
      "Epoch 490/500\n",
      "1/1 [==============================] - 0s 17ms/step - loss: 0.0021 - accuracy: 1.0000\n",
      "Epoch 491/500\n",
      "1/1 [==============================] - 0s 25ms/step - loss: 0.0021 - accuracy: 1.0000\n",
      "Epoch 492/500\n",
      "1/1 [==============================] - 0s 9ms/step - loss: 0.0021 - accuracy: 1.0000\n",
      "Epoch 493/500\n",
      "1/1 [==============================] - 0s 12ms/step - loss: 0.0021 - accuracy: 1.0000\n",
      "Epoch 494/500\n",
      "1/1 [==============================] - 0s 25ms/step - loss: 0.0021 - accuracy: 1.0000\n",
      "Epoch 495/500\n",
      "1/1 [==============================] - 0s 10ms/step - loss: 0.0021 - accuracy: 1.0000\n",
      "Epoch 496/500\n",
      "1/1 [==============================] - 0s 15ms/step - loss: 0.0021 - accuracy: 1.0000\n",
      "Epoch 497/500\n",
      "1/1 [==============================] - 0s 9ms/step - loss: 0.0021 - accuracy: 1.0000\n",
      "Epoch 498/500\n",
      "1/1 [==============================] - 0s 10ms/step - loss: 0.0021 - accuracy: 1.0000\n",
      "Epoch 499/500\n",
      "1/1 [==============================] - 0s 10ms/step - loss: 0.0021 - accuracy: 1.0000\n",
      "Epoch 500/500\n",
      "1/1 [==============================] - 0s 12ms/step - loss: 0.0021 - accuracy: 1.0000\n"
     ]
    }
   ],
   "source": [
    "history = model.fit(X_train, y_train, \n",
    "          epochs=500, \n",
    "          batch_size=100\n",
    "                   )\n",
    "#history.history"
   ]
  },
  {
   "cell_type": "code",
   "execution_count": 302,
   "metadata": {},
   "outputs": [
    {
     "data": {
      "text/plain": [
       "array([[3.8491488e-03],\n",
       "       [1.3289243e-05],\n",
       "       [1.3456613e-02],\n",
       "       [6.1707729e-01],\n",
       "       [9.9939632e-01],\n",
       "       [3.0078590e-03],\n",
       "       [3.4910481e-06],\n",
       "       [2.6673079e-04],\n",
       "       [4.8420578e-01],\n",
       "       [5.2863657e-03],\n",
       "       [4.0768087e-03],\n",
       "       [2.2095442e-04],\n",
       "       [1.2053217e-04]], dtype=float32)"
      ]
     },
     "execution_count": 302,
     "metadata": {},
     "output_type": "execute_result"
    }
   ],
   "source": [
    "y_pred = model.predict(X_test)\n",
    "y_pred"
   ]
  },
  {
   "cell_type": "code",
   "execution_count": 303,
   "metadata": {},
   "outputs": [],
   "source": [
    "y_pred = (y_pred > 0.4).astype(int)"
   ]
  },
  {
   "cell_type": "code",
   "execution_count": 304,
   "metadata": {},
   "outputs": [
    {
     "data": {
      "text/plain": [
       "array([[0],\n",
       "       [0],\n",
       "       [0],\n",
       "       [1],\n",
       "       [1],\n",
       "       [0],\n",
       "       [0],\n",
       "       [0],\n",
       "       [1],\n",
       "       [0],\n",
       "       [0],\n",
       "       [0],\n",
       "       [0]])"
      ]
     },
     "execution_count": 304,
     "metadata": {},
     "output_type": "execute_result"
    }
   ],
   "source": [
    "y_pred"
   ]
  },
  {
   "cell_type": "code",
   "execution_count": 264,
   "metadata": {},
   "outputs": [
    {
     "data": {
      "text/plain": [
       "array([0, 1, 1, 1, 0, 1, 0, 0, 0, 0, 0, 0, 1])"
      ]
     },
     "execution_count": 264,
     "metadata": {},
     "output_type": "execute_result"
    }
   ],
   "source": [
    "y_test"
   ]
  },
  {
   "cell_type": "code",
   "execution_count": 285,
   "metadata": {},
   "outputs": [
    {
     "data": {
      "text/plain": [
       "0.6153846153846154"
      ]
     },
     "execution_count": 285,
     "metadata": {},
     "output_type": "execute_result"
    }
   ],
   "source": [
    "accuracy_score(y_test, y_pred)"
   ]
  },
  {
   "cell_type": "code",
   "execution_count": 286,
   "metadata": {},
   "outputs": [
    {
     "data": {
      "text/plain": [
       "array([[7, 1],\n",
       "       [4, 1]])"
      ]
     },
     "execution_count": 286,
     "metadata": {},
     "output_type": "execute_result"
    }
   ],
   "source": [
    "confusion_matrix(y_test, y_pred)"
   ]
  },
  {
   "cell_type": "code",
   "execution_count": 287,
   "metadata": {
    "collapsed": true
   },
   "outputs": [
    {
     "name": "stdout",
     "output_type": "stream",
     "text": [
      "              precision    recall  f1-score   support\n",
      "\n",
      "           0       0.64      0.88      0.74         8\n",
      "           1       0.50      0.20      0.29         5\n",
      "\n",
      "    accuracy                           0.62        13\n",
      "   macro avg       0.57      0.54      0.51        13\n",
      "weighted avg       0.58      0.62      0.56        13\n",
      "\n"
     ]
    }
   ],
   "source": [
    "print(classification_report(y_test, y_pred))"
   ]
  },
  {
   "cell_type": "markdown",
   "metadata": {},
   "source": [
    "### AUC_ROC_CURVE metric"
   ]
  },
  {
   "cell_type": "code",
   "execution_count": 290,
   "metadata": {},
   "outputs": [],
   "source": [
    "pred_prob = model.predict(X_test)"
   ]
  },
  {
   "cell_type": "code",
   "execution_count": 295,
   "metadata": {},
   "outputs": [
    {
     "data": {
      "text/plain": [
       "0.475"
      ]
     },
     "execution_count": 295,
     "metadata": {},
     "output_type": "execute_result"
    }
   ],
   "source": [
    "from sklearn.metrics import roc_auc_score, roc_curve\n",
    "\n",
    "auc_score = roc_auc_score(y_test, pred_prob)\n",
    "auc_score"
   ]
  },
  {
   "cell_type": "markdown",
   "metadata": {},
   "source": [
    "### PLot Roc Curve"
   ]
  },
  {
   "cell_type": "code",
   "execution_count": 299,
   "metadata": {},
   "outputs": [
    {
     "data": {
      "image/png": "[encoded data removed]",
      "text/plain": [
       "<Figure size 432x288 with 1 Axes>"
      ]
     },
     "metadata": {},
     "output_type": "display_data"
    }
   ],
   "source": [
    "fpr, tpr, thresh = roc_curve(y_test, pred_prob)\n",
    "\n",
    "#create ROC curve\n",
    "plt.plot(fpr,tpr, label=\"AUC=\"+str(auc_score))\n",
    "plt.ylabel('True Positive Rate')\n",
    "plt.xlabel('False Positive Rate')\n",
    "plt.legend(loc=4)\n",
    "plt.show()"
   ]
  },
  {
   "cell_type": "code",
   "execution_count": null,
   "metadata": {},
   "outputs": [],
   "source": []
  }
 ],
 "metadata": {
  "kernelspec": {
   "display_name": "Python 3 (ipykernel)",
   "language": "python",
   "name": "python3"
  },
  "language_info": {
   "codemirror_mode": {
    "name": "ipython",
    "version": 3
   },
   "file_extension": ".py",
   "mimetype": "text/x-python",
   "name": "python",
   "nbconvert_exporter": "python",
   "pygments_lexer": "ipython3",
   "version": "3.7.4"
  }
 },
 "nbformat": 4,
 "nbformat_minor": 5
}
